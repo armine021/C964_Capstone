{
  "cells": [
    {
      "cell_type": "markdown",
      "metadata": {
        "id": "view-in-github",
        "colab_type": "text"
      },
      "source": [
        "<a href=\"https://colab.research.google.com/github/armine021/C964_Capstone/blob/main/Coupons_by_design.ipynb\" target=\"_parent\"><img src=\"https://colab.research.google.com/assets/colab-badge.svg\" alt=\"Open In Colab\"/></a>"
      ]
    },
    {
      "cell_type": "markdown",
      "id": "89e1cd1e",
      "metadata": {
        "id": "89e1cd1e"
      },
      "source": [
        "# Coupons by Design"
      ]
    },
    {
      "cell_type": "markdown",
      "id": "d329b7d8",
      "metadata": {
        "id": "d329b7d8"
      },
      "source": [
        "Import libraries, plot in-line, and set style."
      ]
    },
    {
      "cell_type": "code",
      "execution_count": 1,
      "id": "ea6a05a0",
      "metadata": {
        "id": "ea6a05a0"
      },
      "outputs": [],
      "source": [
        "import pandas as pd\n",
        "import numpy as np\n",
        "import matplotlib.pyplot as plt\n",
        "import seaborn as sns\n",
        "from ipywidgets import widgets, interactive\n",
        "%matplotlib inline\n",
        "sns.set_style('whitegrid')"
      ]
    },
    {
      "cell_type": "markdown",
      "id": "250fb2f9",
      "metadata": {
        "id": "250fb2f9"
      },
      "source": [
        "Read data file as 'df_raw'"
      ]
    },
    {
      "cell_type": "code",
      "execution_count": 2,
      "id": "48480616",
      "metadata": {
        "colab": {
          "base_uri": "https://localhost:8080/",
          "height": 311
        },
        "id": "48480616",
        "outputId": "14d12073-230b-44d1-8e4f-66509f09f58e"
      },
      "outputs": [
        {
          "output_type": "error",
          "ename": "FileNotFoundError",
          "evalue": "ignored",
          "traceback": [
            "\u001b[0;31m---------------------------------------------------------------------------\u001b[0m",
            "\u001b[0;31mFileNotFoundError\u001b[0m                         Traceback (most recent call last)",
            "\u001b[0;32m<ipython-input-2-deee20b9b02f>\u001b[0m in \u001b[0;36m<module>\u001b[0;34m\u001b[0m\n\u001b[0;32m----> 1\u001b[0;31m \u001b[0mdf_raw\u001b[0m \u001b[0;34m=\u001b[0m \u001b[0mpd\u001b[0m\u001b[0;34m.\u001b[0m\u001b[0mread_csv\u001b[0m\u001b[0;34m(\u001b[0m\u001b[0;34m'in-vehicle-coupon-recommendation.csv'\u001b[0m\u001b[0;34m,\u001b[0m\u001b[0mindex_col\u001b[0m\u001b[0;34m=\u001b[0m\u001b[0;36m0\u001b[0m\u001b[0;34m)\u001b[0m\u001b[0;34m\u001b[0m\u001b[0;34m\u001b[0m\u001b[0m\n\u001b[0m",
            "\u001b[0;32m/usr/local/lib/python3.8/dist-packages/pandas/util/_decorators.py\u001b[0m in \u001b[0;36mwrapper\u001b[0;34m(*args, **kwargs)\u001b[0m\n\u001b[1;32m    309\u001b[0m                     \u001b[0mstacklevel\u001b[0m\u001b[0;34m=\u001b[0m\u001b[0mstacklevel\u001b[0m\u001b[0;34m,\u001b[0m\u001b[0;34m\u001b[0m\u001b[0;34m\u001b[0m\u001b[0m\n\u001b[1;32m    310\u001b[0m                 )\n\u001b[0;32m--> 311\u001b[0;31m             \u001b[0;32mreturn\u001b[0m \u001b[0mfunc\u001b[0m\u001b[0;34m(\u001b[0m\u001b[0;34m*\u001b[0m\u001b[0margs\u001b[0m\u001b[0;34m,\u001b[0m \u001b[0;34m**\u001b[0m\u001b[0mkwargs\u001b[0m\u001b[0;34m)\u001b[0m\u001b[0;34m\u001b[0m\u001b[0;34m\u001b[0m\u001b[0m\n\u001b[0m\u001b[1;32m    312\u001b[0m \u001b[0;34m\u001b[0m\u001b[0m\n\u001b[1;32m    313\u001b[0m         \u001b[0;32mreturn\u001b[0m \u001b[0mwrapper\u001b[0m\u001b[0;34m\u001b[0m\u001b[0;34m\u001b[0m\u001b[0m\n",
            "\u001b[0;32m/usr/local/lib/python3.8/dist-packages/pandas/io/parsers/readers.py\u001b[0m in \u001b[0;36mread_csv\u001b[0;34m(filepath_or_buffer, sep, delimiter, header, names, index_col, usecols, squeeze, prefix, mangle_dupe_cols, dtype, engine, converters, true_values, false_values, skipinitialspace, skiprows, skipfooter, nrows, na_values, keep_default_na, na_filter, verbose, skip_blank_lines, parse_dates, infer_datetime_format, keep_date_col, date_parser, dayfirst, cache_dates, iterator, chunksize, compression, thousands, decimal, lineterminator, quotechar, quoting, doublequote, escapechar, comment, encoding, encoding_errors, dialect, error_bad_lines, warn_bad_lines, on_bad_lines, delim_whitespace, low_memory, memory_map, float_precision, storage_options)\u001b[0m\n\u001b[1;32m    584\u001b[0m     \u001b[0mkwds\u001b[0m\u001b[0;34m.\u001b[0m\u001b[0mupdate\u001b[0m\u001b[0;34m(\u001b[0m\u001b[0mkwds_defaults\u001b[0m\u001b[0;34m)\u001b[0m\u001b[0;34m\u001b[0m\u001b[0;34m\u001b[0m\u001b[0m\n\u001b[1;32m    585\u001b[0m \u001b[0;34m\u001b[0m\u001b[0m\n\u001b[0;32m--> 586\u001b[0;31m     \u001b[0;32mreturn\u001b[0m \u001b[0m_read\u001b[0m\u001b[0;34m(\u001b[0m\u001b[0mfilepath_or_buffer\u001b[0m\u001b[0;34m,\u001b[0m \u001b[0mkwds\u001b[0m\u001b[0;34m)\u001b[0m\u001b[0;34m\u001b[0m\u001b[0;34m\u001b[0m\u001b[0m\n\u001b[0m\u001b[1;32m    587\u001b[0m \u001b[0;34m\u001b[0m\u001b[0m\n\u001b[1;32m    588\u001b[0m \u001b[0;34m\u001b[0m\u001b[0m\n",
            "\u001b[0;32m/usr/local/lib/python3.8/dist-packages/pandas/io/parsers/readers.py\u001b[0m in \u001b[0;36m_read\u001b[0;34m(filepath_or_buffer, kwds)\u001b[0m\n\u001b[1;32m    480\u001b[0m \u001b[0;34m\u001b[0m\u001b[0m\n\u001b[1;32m    481\u001b[0m     \u001b[0;31m# Create the parser.\u001b[0m\u001b[0;34m\u001b[0m\u001b[0;34m\u001b[0m\u001b[0;34m\u001b[0m\u001b[0m\n\u001b[0;32m--> 482\u001b[0;31m     \u001b[0mparser\u001b[0m \u001b[0;34m=\u001b[0m \u001b[0mTextFileReader\u001b[0m\u001b[0;34m(\u001b[0m\u001b[0mfilepath_or_buffer\u001b[0m\u001b[0;34m,\u001b[0m \u001b[0;34m**\u001b[0m\u001b[0mkwds\u001b[0m\u001b[0;34m)\u001b[0m\u001b[0;34m\u001b[0m\u001b[0;34m\u001b[0m\u001b[0m\n\u001b[0m\u001b[1;32m    483\u001b[0m \u001b[0;34m\u001b[0m\u001b[0m\n\u001b[1;32m    484\u001b[0m     \u001b[0;32mif\u001b[0m \u001b[0mchunksize\u001b[0m \u001b[0;32mor\u001b[0m \u001b[0miterator\u001b[0m\u001b[0;34m:\u001b[0m\u001b[0;34m\u001b[0m\u001b[0;34m\u001b[0m\u001b[0m\n",
            "\u001b[0;32m/usr/local/lib/python3.8/dist-packages/pandas/io/parsers/readers.py\u001b[0m in \u001b[0;36m__init__\u001b[0;34m(self, f, engine, **kwds)\u001b[0m\n\u001b[1;32m    809\u001b[0m             \u001b[0mself\u001b[0m\u001b[0;34m.\u001b[0m\u001b[0moptions\u001b[0m\u001b[0;34m[\u001b[0m\u001b[0;34m\"has_index_names\"\u001b[0m\u001b[0;34m]\u001b[0m \u001b[0;34m=\u001b[0m \u001b[0mkwds\u001b[0m\u001b[0;34m[\u001b[0m\u001b[0;34m\"has_index_names\"\u001b[0m\u001b[0;34m]\u001b[0m\u001b[0;34m\u001b[0m\u001b[0;34m\u001b[0m\u001b[0m\n\u001b[1;32m    810\u001b[0m \u001b[0;34m\u001b[0m\u001b[0m\n\u001b[0;32m--> 811\u001b[0;31m         \u001b[0mself\u001b[0m\u001b[0;34m.\u001b[0m\u001b[0m_engine\u001b[0m \u001b[0;34m=\u001b[0m \u001b[0mself\u001b[0m\u001b[0;34m.\u001b[0m\u001b[0m_make_engine\u001b[0m\u001b[0;34m(\u001b[0m\u001b[0mself\u001b[0m\u001b[0;34m.\u001b[0m\u001b[0mengine\u001b[0m\u001b[0;34m)\u001b[0m\u001b[0;34m\u001b[0m\u001b[0;34m\u001b[0m\u001b[0m\n\u001b[0m\u001b[1;32m    812\u001b[0m \u001b[0;34m\u001b[0m\u001b[0m\n\u001b[1;32m    813\u001b[0m     \u001b[0;32mdef\u001b[0m \u001b[0mclose\u001b[0m\u001b[0;34m(\u001b[0m\u001b[0mself\u001b[0m\u001b[0;34m)\u001b[0m\u001b[0;34m:\u001b[0m\u001b[0;34m\u001b[0m\u001b[0;34m\u001b[0m\u001b[0m\n",
            "\u001b[0;32m/usr/local/lib/python3.8/dist-packages/pandas/io/parsers/readers.py\u001b[0m in \u001b[0;36m_make_engine\u001b[0;34m(self, engine)\u001b[0m\n\u001b[1;32m   1038\u001b[0m             )\n\u001b[1;32m   1039\u001b[0m         \u001b[0;31m# error: Too many arguments for \"ParserBase\"\u001b[0m\u001b[0;34m\u001b[0m\u001b[0;34m\u001b[0m\u001b[0;34m\u001b[0m\u001b[0m\n\u001b[0;32m-> 1040\u001b[0;31m         \u001b[0;32mreturn\u001b[0m \u001b[0mmapping\u001b[0m\u001b[0;34m[\u001b[0m\u001b[0mengine\u001b[0m\u001b[0;34m]\u001b[0m\u001b[0;34m(\u001b[0m\u001b[0mself\u001b[0m\u001b[0;34m.\u001b[0m\u001b[0mf\u001b[0m\u001b[0;34m,\u001b[0m \u001b[0;34m**\u001b[0m\u001b[0mself\u001b[0m\u001b[0;34m.\u001b[0m\u001b[0moptions\u001b[0m\u001b[0;34m)\u001b[0m  \u001b[0;31m# type: ignore[call-arg]\u001b[0m\u001b[0;34m\u001b[0m\u001b[0;34m\u001b[0m\u001b[0m\n\u001b[0m\u001b[1;32m   1041\u001b[0m \u001b[0;34m\u001b[0m\u001b[0m\n\u001b[1;32m   1042\u001b[0m     \u001b[0;32mdef\u001b[0m \u001b[0m_failover_to_python\u001b[0m\u001b[0;34m(\u001b[0m\u001b[0mself\u001b[0m\u001b[0;34m)\u001b[0m\u001b[0;34m:\u001b[0m\u001b[0;34m\u001b[0m\u001b[0;34m\u001b[0m\u001b[0m\n",
            "\u001b[0;32m/usr/local/lib/python3.8/dist-packages/pandas/io/parsers/c_parser_wrapper.py\u001b[0m in \u001b[0;36m__init__\u001b[0;34m(self, src, **kwds)\u001b[0m\n\u001b[1;32m     49\u001b[0m \u001b[0;34m\u001b[0m\u001b[0m\n\u001b[1;32m     50\u001b[0m         \u001b[0;31m# open handles\u001b[0m\u001b[0;34m\u001b[0m\u001b[0;34m\u001b[0m\u001b[0;34m\u001b[0m\u001b[0m\n\u001b[0;32m---> 51\u001b[0;31m         \u001b[0mself\u001b[0m\u001b[0;34m.\u001b[0m\u001b[0m_open_handles\u001b[0m\u001b[0;34m(\u001b[0m\u001b[0msrc\u001b[0m\u001b[0;34m,\u001b[0m \u001b[0mkwds\u001b[0m\u001b[0;34m)\u001b[0m\u001b[0;34m\u001b[0m\u001b[0;34m\u001b[0m\u001b[0m\n\u001b[0m\u001b[1;32m     52\u001b[0m         \u001b[0;32massert\u001b[0m \u001b[0mself\u001b[0m\u001b[0;34m.\u001b[0m\u001b[0mhandles\u001b[0m \u001b[0;32mis\u001b[0m \u001b[0;32mnot\u001b[0m \u001b[0;32mNone\u001b[0m\u001b[0;34m\u001b[0m\u001b[0;34m\u001b[0m\u001b[0m\n\u001b[1;32m     53\u001b[0m \u001b[0;34m\u001b[0m\u001b[0m\n",
            "\u001b[0;32m/usr/local/lib/python3.8/dist-packages/pandas/io/parsers/base_parser.py\u001b[0m in \u001b[0;36m_open_handles\u001b[0;34m(self, src, kwds)\u001b[0m\n\u001b[1;32m    220\u001b[0m         \u001b[0mLet\u001b[0m \u001b[0mthe\u001b[0m \u001b[0mreaders\u001b[0m \u001b[0mopen\u001b[0m \u001b[0mIOHandles\u001b[0m \u001b[0mafter\u001b[0m \u001b[0mthey\u001b[0m \u001b[0mare\u001b[0m \u001b[0mdone\u001b[0m \u001b[0;32mwith\u001b[0m \u001b[0mtheir\u001b[0m \u001b[0mpotential\u001b[0m \u001b[0mraises\u001b[0m\u001b[0;34m.\u001b[0m\u001b[0;34m\u001b[0m\u001b[0;34m\u001b[0m\u001b[0m\n\u001b[1;32m    221\u001b[0m         \"\"\"\n\u001b[0;32m--> 222\u001b[0;31m         self.handles = get_handle(\n\u001b[0m\u001b[1;32m    223\u001b[0m             \u001b[0msrc\u001b[0m\u001b[0;34m,\u001b[0m\u001b[0;34m\u001b[0m\u001b[0;34m\u001b[0m\u001b[0m\n\u001b[1;32m    224\u001b[0m             \u001b[0;34m\"r\"\u001b[0m\u001b[0;34m,\u001b[0m\u001b[0;34m\u001b[0m\u001b[0;34m\u001b[0m\u001b[0m\n",
            "\u001b[0;32m/usr/local/lib/python3.8/dist-packages/pandas/io/common.py\u001b[0m in \u001b[0;36mget_handle\u001b[0;34m(path_or_buf, mode, encoding, compression, memory_map, is_text, errors, storage_options)\u001b[0m\n\u001b[1;32m    700\u001b[0m         \u001b[0;32mif\u001b[0m \u001b[0mioargs\u001b[0m\u001b[0;34m.\u001b[0m\u001b[0mencoding\u001b[0m \u001b[0;32mand\u001b[0m \u001b[0;34m\"b\"\u001b[0m \u001b[0;32mnot\u001b[0m \u001b[0;32min\u001b[0m \u001b[0mioargs\u001b[0m\u001b[0;34m.\u001b[0m\u001b[0mmode\u001b[0m\u001b[0;34m:\u001b[0m\u001b[0;34m\u001b[0m\u001b[0;34m\u001b[0m\u001b[0m\n\u001b[1;32m    701\u001b[0m             \u001b[0;31m# Encoding\u001b[0m\u001b[0;34m\u001b[0m\u001b[0;34m\u001b[0m\u001b[0;34m\u001b[0m\u001b[0m\n\u001b[0;32m--> 702\u001b[0;31m             handle = open(\n\u001b[0m\u001b[1;32m    703\u001b[0m                 \u001b[0mhandle\u001b[0m\u001b[0;34m,\u001b[0m\u001b[0;34m\u001b[0m\u001b[0;34m\u001b[0m\u001b[0m\n\u001b[1;32m    704\u001b[0m                 \u001b[0mioargs\u001b[0m\u001b[0;34m.\u001b[0m\u001b[0mmode\u001b[0m\u001b[0;34m,\u001b[0m\u001b[0;34m\u001b[0m\u001b[0;34m\u001b[0m\u001b[0m\n",
            "\u001b[0;31mFileNotFoundError\u001b[0m: [Errno 2] No such file or directory: 'in-vehicle-coupon-recommendation.csv'"
          ]
        }
      ],
      "source": [
        "df_raw = pd.read_csv('in-vehicle-coupon-recommendation.csv',index_col=0)"
      ]
    },
    {
      "cell_type": "markdown",
      "id": "be41a056",
      "metadata": {
        "id": "be41a056"
      },
      "source": [
        "Check the head of df_raw"
      ]
    },
    {
      "cell_type": "code",
      "execution_count": null,
      "id": "325ac63e",
      "metadata": {
        "scrolled": true,
        "id": "325ac63e",
        "outputId": "68fc1bde-64be-41f3-f0d4-4590185948d3"
      },
      "outputs": [
        {
          "data": {
            "text/html": [
              "<div>\n",
              "<style scoped>\n",
              "    .dataframe tbody tr th:only-of-type {\n",
              "        vertical-align: middle;\n",
              "    }\n",
              "\n",
              "    .dataframe tbody tr th {\n",
              "        vertical-align: top;\n",
              "    }\n",
              "\n",
              "    .dataframe thead th {\n",
              "        text-align: right;\n",
              "    }\n",
              "</style>\n",
              "<table border=\"1\" class=\"dataframe\">\n",
              "  <thead>\n",
              "    <tr style=\"text-align: right;\">\n",
              "      <th></th>\n",
              "      <th>passenger</th>\n",
              "      <th>weather</th>\n",
              "      <th>temperature</th>\n",
              "      <th>time</th>\n",
              "      <th>coupon</th>\n",
              "      <th>expiration</th>\n",
              "      <th>gender</th>\n",
              "      <th>age</th>\n",
              "      <th>maritalStatus</th>\n",
              "      <th>has_children</th>\n",
              "      <th>...</th>\n",
              "      <th>CoffeeHouse</th>\n",
              "      <th>CarryAway</th>\n",
              "      <th>RestaurantLessThan20</th>\n",
              "      <th>Restaurant20To50</th>\n",
              "      <th>toCoupon_GEQ5min</th>\n",
              "      <th>toCoupon_GEQ15min</th>\n",
              "      <th>toCoupon_GEQ25min</th>\n",
              "      <th>direction_same</th>\n",
              "      <th>direction_opp</th>\n",
              "      <th>Y</th>\n",
              "    </tr>\n",
              "    <tr>\n",
              "      <th>destination</th>\n",
              "      <th></th>\n",
              "      <th></th>\n",
              "      <th></th>\n",
              "      <th></th>\n",
              "      <th></th>\n",
              "      <th></th>\n",
              "      <th></th>\n",
              "      <th></th>\n",
              "      <th></th>\n",
              "      <th></th>\n",
              "      <th></th>\n",
              "      <th></th>\n",
              "      <th></th>\n",
              "      <th></th>\n",
              "      <th></th>\n",
              "      <th></th>\n",
              "      <th></th>\n",
              "      <th></th>\n",
              "      <th></th>\n",
              "      <th></th>\n",
              "      <th></th>\n",
              "    </tr>\n",
              "  </thead>\n",
              "  <tbody>\n",
              "    <tr>\n",
              "      <th>No Urgent Place</th>\n",
              "      <td>Alone</td>\n",
              "      <td>Sunny</td>\n",
              "      <td>55</td>\n",
              "      <td>2PM</td>\n",
              "      <td>Restaurant(&lt;20)</td>\n",
              "      <td>1d</td>\n",
              "      <td>Female</td>\n",
              "      <td>21</td>\n",
              "      <td>Unmarried partner</td>\n",
              "      <td>1</td>\n",
              "      <td>...</td>\n",
              "      <td>never</td>\n",
              "      <td>NaN</td>\n",
              "      <td>4~8</td>\n",
              "      <td>1~3</td>\n",
              "      <td>1</td>\n",
              "      <td>0</td>\n",
              "      <td>0</td>\n",
              "      <td>0</td>\n",
              "      <td>1</td>\n",
              "      <td>1</td>\n",
              "    </tr>\n",
              "    <tr>\n",
              "      <th>No Urgent Place</th>\n",
              "      <td>Friend(s)</td>\n",
              "      <td>Sunny</td>\n",
              "      <td>80</td>\n",
              "      <td>10AM</td>\n",
              "      <td>Coffee House</td>\n",
              "      <td>2h</td>\n",
              "      <td>Female</td>\n",
              "      <td>21</td>\n",
              "      <td>Unmarried partner</td>\n",
              "      <td>1</td>\n",
              "      <td>...</td>\n",
              "      <td>never</td>\n",
              "      <td>NaN</td>\n",
              "      <td>4~8</td>\n",
              "      <td>1~3</td>\n",
              "      <td>1</td>\n",
              "      <td>0</td>\n",
              "      <td>0</td>\n",
              "      <td>0</td>\n",
              "      <td>1</td>\n",
              "      <td>0</td>\n",
              "    </tr>\n",
              "    <tr>\n",
              "      <th>No Urgent Place</th>\n",
              "      <td>Friend(s)</td>\n",
              "      <td>Sunny</td>\n",
              "      <td>80</td>\n",
              "      <td>10AM</td>\n",
              "      <td>Carry out &amp; Take away</td>\n",
              "      <td>2h</td>\n",
              "      <td>Female</td>\n",
              "      <td>21</td>\n",
              "      <td>Unmarried partner</td>\n",
              "      <td>1</td>\n",
              "      <td>...</td>\n",
              "      <td>never</td>\n",
              "      <td>NaN</td>\n",
              "      <td>4~8</td>\n",
              "      <td>1~3</td>\n",
              "      <td>1</td>\n",
              "      <td>1</td>\n",
              "      <td>0</td>\n",
              "      <td>0</td>\n",
              "      <td>1</td>\n",
              "      <td>1</td>\n",
              "    </tr>\n",
              "    <tr>\n",
              "      <th>No Urgent Place</th>\n",
              "      <td>Friend(s)</td>\n",
              "      <td>Sunny</td>\n",
              "      <td>80</td>\n",
              "      <td>2PM</td>\n",
              "      <td>Coffee House</td>\n",
              "      <td>2h</td>\n",
              "      <td>Female</td>\n",
              "      <td>21</td>\n",
              "      <td>Unmarried partner</td>\n",
              "      <td>1</td>\n",
              "      <td>...</td>\n",
              "      <td>never</td>\n",
              "      <td>NaN</td>\n",
              "      <td>4~8</td>\n",
              "      <td>1~3</td>\n",
              "      <td>1</td>\n",
              "      <td>1</td>\n",
              "      <td>0</td>\n",
              "      <td>0</td>\n",
              "      <td>1</td>\n",
              "      <td>0</td>\n",
              "    </tr>\n",
              "    <tr>\n",
              "      <th>No Urgent Place</th>\n",
              "      <td>Friend(s)</td>\n",
              "      <td>Sunny</td>\n",
              "      <td>80</td>\n",
              "      <td>2PM</td>\n",
              "      <td>Coffee House</td>\n",
              "      <td>1d</td>\n",
              "      <td>Female</td>\n",
              "      <td>21</td>\n",
              "      <td>Unmarried partner</td>\n",
              "      <td>1</td>\n",
              "      <td>...</td>\n",
              "      <td>never</td>\n",
              "      <td>NaN</td>\n",
              "      <td>4~8</td>\n",
              "      <td>1~3</td>\n",
              "      <td>1</td>\n",
              "      <td>1</td>\n",
              "      <td>0</td>\n",
              "      <td>0</td>\n",
              "      <td>1</td>\n",
              "      <td>0</td>\n",
              "    </tr>\n",
              "  </tbody>\n",
              "</table>\n",
              "<p>5 rows × 25 columns</p>\n",
              "</div>"
            ],
            "text/plain": [
              "                 passenger weather  temperature  time                 coupon  \\\n",
              "destination                                                                    \n",
              "No Urgent Place      Alone   Sunny           55   2PM        Restaurant(<20)   \n",
              "No Urgent Place  Friend(s)   Sunny           80  10AM           Coffee House   \n",
              "No Urgent Place  Friend(s)   Sunny           80  10AM  Carry out & Take away   \n",
              "No Urgent Place  Friend(s)   Sunny           80   2PM           Coffee House   \n",
              "No Urgent Place  Friend(s)   Sunny           80   2PM           Coffee House   \n",
              "\n",
              "                expiration  gender age      maritalStatus  has_children  ...  \\\n",
              "destination                                                              ...   \n",
              "No Urgent Place         1d  Female  21  Unmarried partner             1  ...   \n",
              "No Urgent Place         2h  Female  21  Unmarried partner             1  ...   \n",
              "No Urgent Place         2h  Female  21  Unmarried partner             1  ...   \n",
              "No Urgent Place         2h  Female  21  Unmarried partner             1  ...   \n",
              "No Urgent Place         1d  Female  21  Unmarried partner             1  ...   \n",
              "\n",
              "                CoffeeHouse CarryAway RestaurantLessThan20 Restaurant20To50  \\\n",
              "destination                                                                   \n",
              "No Urgent Place       never       NaN                  4~8              1~3   \n",
              "No Urgent Place       never       NaN                  4~8              1~3   \n",
              "No Urgent Place       never       NaN                  4~8              1~3   \n",
              "No Urgent Place       never       NaN                  4~8              1~3   \n",
              "No Urgent Place       never       NaN                  4~8              1~3   \n",
              "\n",
              "                toCoupon_GEQ5min toCoupon_GEQ15min toCoupon_GEQ25min  \\\n",
              "destination                                                            \n",
              "No Urgent Place                1                 0                 0   \n",
              "No Urgent Place                1                 0                 0   \n",
              "No Urgent Place                1                 1                 0   \n",
              "No Urgent Place                1                 1                 0   \n",
              "No Urgent Place                1                 1                 0   \n",
              "\n",
              "                direction_same direction_opp  Y  \n",
              "destination                                      \n",
              "No Urgent Place              0             1  1  \n",
              "No Urgent Place              0             1  0  \n",
              "No Urgent Place              0             1  1  \n",
              "No Urgent Place              0             1  0  \n",
              "No Urgent Place              0             1  0  \n",
              "\n",
              "[5 rows x 25 columns]"
            ]
          },
          "execution_count": 4,
          "metadata": {},
          "output_type": "execute_result"
        }
      ],
      "source": [
        "df_raw.head()"
      ]
    },
    {
      "cell_type": "markdown",
      "id": "d9762ada",
      "metadata": {
        "id": "d9762ada"
      },
      "source": [
        "Check the info() and describe() methods on the data."
      ]
    },
    {
      "cell_type": "code",
      "execution_count": null,
      "id": "08d65be2",
      "metadata": {
        "scrolled": true,
        "id": "08d65be2",
        "outputId": "04d22a11-34cf-4643-e515-f5b433b0020b"
      },
      "outputs": [
        {
          "name": "stdout",
          "output_type": "stream",
          "text": [
            "<class 'pandas.core.frame.DataFrame'>\n",
            "Index: 12684 entries, No Urgent Place to Work\n",
            "Data columns (total 25 columns):\n",
            " #   Column                Non-Null Count  Dtype \n",
            "---  ------                --------------  ----- \n",
            " 0   passenger             12684 non-null  object\n",
            " 1   weather               12684 non-null  object\n",
            " 2   temperature           12684 non-null  int64 \n",
            " 3   time                  12684 non-null  object\n",
            " 4   coupon                12684 non-null  object\n",
            " 5   expiration            12684 non-null  object\n",
            " 6   gender                12684 non-null  object\n",
            " 7   age                   12684 non-null  object\n",
            " 8   maritalStatus         12684 non-null  object\n",
            " 9   has_children          12684 non-null  int64 \n",
            " 10  education             12684 non-null  object\n",
            " 11  occupation            12684 non-null  object\n",
            " 12  income                12684 non-null  object\n",
            " 13  car                   108 non-null    object\n",
            " 14  Bar                   12577 non-null  object\n",
            " 15  CoffeeHouse           12467 non-null  object\n",
            " 16  CarryAway             12533 non-null  object\n",
            " 17  RestaurantLessThan20  12554 non-null  object\n",
            " 18  Restaurant20To50      12495 non-null  object\n",
            " 19  toCoupon_GEQ5min      12684 non-null  int64 \n",
            " 20  toCoupon_GEQ15min     12684 non-null  int64 \n",
            " 21  toCoupon_GEQ25min     12684 non-null  int64 \n",
            " 22  direction_same        12684 non-null  int64 \n",
            " 23  direction_opp         12684 non-null  int64 \n",
            " 24  Y                     12684 non-null  int64 \n",
            "dtypes: int64(8), object(17)\n",
            "memory usage: 2.5+ MB\n"
          ]
        }
      ],
      "source": [
        "df_raw.info()\n",
        "# note less than 1% of people answered about 'car'\n",
        "# note that most columns have the same number of non-null counts, except the frequency questions (Bar, CoffeeHouse, etc.)"
      ]
    },
    {
      "cell_type": "code",
      "execution_count": null,
      "id": "adddc109",
      "metadata": {
        "scrolled": true,
        "id": "adddc109",
        "outputId": "b1bf30dd-b336-41df-8f23-c49875756848"
      },
      "outputs": [
        {
          "data": {
            "text/html": [
              "<div>\n",
              "<style scoped>\n",
              "    .dataframe tbody tr th:only-of-type {\n",
              "        vertical-align: middle;\n",
              "    }\n",
              "\n",
              "    .dataframe tbody tr th {\n",
              "        vertical-align: top;\n",
              "    }\n",
              "\n",
              "    .dataframe thead th {\n",
              "        text-align: right;\n",
              "    }\n",
              "</style>\n",
              "<table border=\"1\" class=\"dataframe\">\n",
              "  <thead>\n",
              "    <tr style=\"text-align: right;\">\n",
              "      <th></th>\n",
              "      <th>temperature</th>\n",
              "      <th>has_children</th>\n",
              "      <th>toCoupon_GEQ5min</th>\n",
              "      <th>toCoupon_GEQ15min</th>\n",
              "      <th>toCoupon_GEQ25min</th>\n",
              "      <th>direction_same</th>\n",
              "      <th>direction_opp</th>\n",
              "      <th>Y</th>\n",
              "    </tr>\n",
              "  </thead>\n",
              "  <tbody>\n",
              "    <tr>\n",
              "      <th>count</th>\n",
              "      <td>12684.000000</td>\n",
              "      <td>12684.000000</td>\n",
              "      <td>12684.0</td>\n",
              "      <td>12684.000000</td>\n",
              "      <td>12684.000000</td>\n",
              "      <td>12684.000000</td>\n",
              "      <td>12684.000000</td>\n",
              "      <td>12684.000000</td>\n",
              "    </tr>\n",
              "    <tr>\n",
              "      <th>mean</th>\n",
              "      <td>63.301798</td>\n",
              "      <td>0.414144</td>\n",
              "      <td>1.0</td>\n",
              "      <td>0.561495</td>\n",
              "      <td>0.119126</td>\n",
              "      <td>0.214759</td>\n",
              "      <td>0.785241</td>\n",
              "      <td>0.568433</td>\n",
              "    </tr>\n",
              "    <tr>\n",
              "      <th>std</th>\n",
              "      <td>19.154486</td>\n",
              "      <td>0.492593</td>\n",
              "      <td>0.0</td>\n",
              "      <td>0.496224</td>\n",
              "      <td>0.323950</td>\n",
              "      <td>0.410671</td>\n",
              "      <td>0.410671</td>\n",
              "      <td>0.495314</td>\n",
              "    </tr>\n",
              "    <tr>\n",
              "      <th>min</th>\n",
              "      <td>30.000000</td>\n",
              "      <td>0.000000</td>\n",
              "      <td>1.0</td>\n",
              "      <td>0.000000</td>\n",
              "      <td>0.000000</td>\n",
              "      <td>0.000000</td>\n",
              "      <td>0.000000</td>\n",
              "      <td>0.000000</td>\n",
              "    </tr>\n",
              "    <tr>\n",
              "      <th>25%</th>\n",
              "      <td>55.000000</td>\n",
              "      <td>0.000000</td>\n",
              "      <td>1.0</td>\n",
              "      <td>0.000000</td>\n",
              "      <td>0.000000</td>\n",
              "      <td>0.000000</td>\n",
              "      <td>1.000000</td>\n",
              "      <td>0.000000</td>\n",
              "    </tr>\n",
              "    <tr>\n",
              "      <th>50%</th>\n",
              "      <td>80.000000</td>\n",
              "      <td>0.000000</td>\n",
              "      <td>1.0</td>\n",
              "      <td>1.000000</td>\n",
              "      <td>0.000000</td>\n",
              "      <td>0.000000</td>\n",
              "      <td>1.000000</td>\n",
              "      <td>1.000000</td>\n",
              "    </tr>\n",
              "    <tr>\n",
              "      <th>75%</th>\n",
              "      <td>80.000000</td>\n",
              "      <td>1.000000</td>\n",
              "      <td>1.0</td>\n",
              "      <td>1.000000</td>\n",
              "      <td>0.000000</td>\n",
              "      <td>0.000000</td>\n",
              "      <td>1.000000</td>\n",
              "      <td>1.000000</td>\n",
              "    </tr>\n",
              "    <tr>\n",
              "      <th>max</th>\n",
              "      <td>80.000000</td>\n",
              "      <td>1.000000</td>\n",
              "      <td>1.0</td>\n",
              "      <td>1.000000</td>\n",
              "      <td>1.000000</td>\n",
              "      <td>1.000000</td>\n",
              "      <td>1.000000</td>\n",
              "      <td>1.000000</td>\n",
              "    </tr>\n",
              "  </tbody>\n",
              "</table>\n",
              "</div>"
            ],
            "text/plain": [
              "        temperature  has_children  toCoupon_GEQ5min  toCoupon_GEQ15min  \\\n",
              "count  12684.000000  12684.000000           12684.0       12684.000000   \n",
              "mean      63.301798      0.414144               1.0           0.561495   \n",
              "std       19.154486      0.492593               0.0           0.496224   \n",
              "min       30.000000      0.000000               1.0           0.000000   \n",
              "25%       55.000000      0.000000               1.0           0.000000   \n",
              "50%       80.000000      0.000000               1.0           1.000000   \n",
              "75%       80.000000      1.000000               1.0           1.000000   \n",
              "max       80.000000      1.000000               1.0           1.000000   \n",
              "\n",
              "       toCoupon_GEQ25min  direction_same  direction_opp             Y  \n",
              "count       12684.000000    12684.000000   12684.000000  12684.000000  \n",
              "mean            0.119126        0.214759       0.785241      0.568433  \n",
              "std             0.323950        0.410671       0.410671      0.495314  \n",
              "min             0.000000        0.000000       0.000000      0.000000  \n",
              "25%             0.000000        0.000000       1.000000      0.000000  \n",
              "50%             0.000000        0.000000       1.000000      1.000000  \n",
              "75%             0.000000        0.000000       1.000000      1.000000  \n",
              "max             1.000000        1.000000       1.000000      1.000000  "
            ]
          },
          "execution_count": 6,
          "metadata": {},
          "output_type": "execute_result"
        }
      ],
      "source": [
        "df_raw.describe()\n",
        "# note that several columns are 0 or 1 answers for yes or no\n",
        "# note that while temperature is a number, it is only from a selection of 3 values (30, 55, or 80)"
      ]
    },
    {
      "cell_type": "markdown",
      "id": "c81b80c7",
      "metadata": {
        "id": "c81b80c7"
      },
      "source": [
        "Change categorical data to numerical data and attach in a new dataframe 'df_dummies'."
      ]
    },
    {
      "cell_type": "code",
      "execution_count": null,
      "id": "560f8bf6",
      "metadata": {
        "id": "560f8bf6"
      },
      "outputs": [],
      "source": [
        "# values: Rainy, Snowy, Sunny\n",
        "weather = pd.get_dummies(df_raw['weather'],drop_first=True)\n",
        "\n",
        "# values: 30, 55, 80\n",
        "# TODO: rename to freezing, cool, and warm? does this even add value?\n",
        "temperature = pd.get_dummies(df_raw['temperature'],drop_first=True)\n",
        "\n",
        "# values: 7AM, 10AM, 2PM, 6PM, 10PM\n",
        "# TODO: not dropping first as this will be used later for predictions\n",
        "# TODO: create as 2 categories with method? beforeNoon and afterNoon? does this even add value?\n",
        "time = pd.get_dummies(df_raw['time'])\n",
        "\n",
        "# values: Bar, Carryout & Take away, Coffee House, Restaurant(<20), Restaurant(20-50)\n",
        "# TODO: not dropping first as this will be used later for predictions\n",
        "coupon = pd.get_dummies(df_raw['coupon'])\n",
        "\n",
        "# values: 2h, 1d\n",
        "expiration = pd.get_dummies(df_raw['expiration'],drop_first=True)"
      ]
    },
    {
      "cell_type": "markdown",
      "id": "bbd1d0ed",
      "metadata": {
        "id": "bbd1d0ed"
      },
      "source": [
        "Check the info() method on the dummied data to see the newly created columns."
      ]
    },
    {
      "cell_type": "code",
      "execution_count": null,
      "id": "43d60232",
      "metadata": {
        "id": "43d60232",
        "outputId": "fb6fc004-4226-48fe-91f5-db1b735d87df"
      },
      "outputs": [
        {
          "name": "stdout",
          "output_type": "stream",
          "text": [
            "<class 'pandas.core.frame.DataFrame'>\n",
            "Index: 12684 entries, No Urgent Place to Work\n",
            "Data columns (total 40 columns):\n",
            " #   Column                 Non-Null Count  Dtype \n",
            "---  ------                 --------------  ----- \n",
            " 0   passenger              12684 non-null  object\n",
            " 1   weather                12684 non-null  object\n",
            " 2   temperature            12684 non-null  int64 \n",
            " 3   time                   12684 non-null  object\n",
            " 4   coupon                 12684 non-null  object\n",
            " 5   expiration             12684 non-null  object\n",
            " 6   gender                 12684 non-null  object\n",
            " 7   age                    12684 non-null  object\n",
            " 8   maritalStatus          12684 non-null  object\n",
            " 9   has_children           12684 non-null  int64 \n",
            " 10  education              12684 non-null  object\n",
            " 11  occupation             12684 non-null  object\n",
            " 12  income                 12684 non-null  object\n",
            " 13  car                    108 non-null    object\n",
            " 14  Bar                    12577 non-null  object\n",
            " 15  CoffeeHouse            12467 non-null  object\n",
            " 16  CarryAway              12533 non-null  object\n",
            " 17  RestaurantLessThan20   12554 non-null  object\n",
            " 18  Restaurant20To50       12495 non-null  object\n",
            " 19  toCoupon_GEQ5min       12684 non-null  int64 \n",
            " 20  toCoupon_GEQ15min      12684 non-null  int64 \n",
            " 21  toCoupon_GEQ25min      12684 non-null  int64 \n",
            " 22  direction_same         12684 non-null  int64 \n",
            " 23  direction_opp          12684 non-null  int64 \n",
            " 24  Y                      12684 non-null  int64 \n",
            " 25  Snowy                  12684 non-null  uint8 \n",
            " 26  Sunny                  12684 non-null  uint8 \n",
            " 27  55                     12684 non-null  uint8 \n",
            " 28  80                     12684 non-null  uint8 \n",
            " 29  10AM                   12684 non-null  uint8 \n",
            " 30  10PM                   12684 non-null  uint8 \n",
            " 31  2PM                    12684 non-null  uint8 \n",
            " 32  6PM                    12684 non-null  uint8 \n",
            " 33  7AM                    12684 non-null  uint8 \n",
            " 34  Bar                    12684 non-null  uint8 \n",
            " 35  Carry out & Take away  12684 non-null  uint8 \n",
            " 36  Coffee House           12684 non-null  uint8 \n",
            " 37  Restaurant(20-50)      12684 non-null  uint8 \n",
            " 38  Restaurant(<20)        12684 non-null  uint8 \n",
            " 39  2h                     12684 non-null  uint8 \n",
            "dtypes: int64(8), object(17), uint8(15)\n",
            "memory usage: 2.7+ MB\n"
          ]
        },
        {
          "data": {
            "text/plain": [
              "Index([            'passenger',               'weather',\n",
              "                 'temperature',                  'time',\n",
              "                      'coupon',            'expiration',\n",
              "                      'gender',                   'age',\n",
              "               'maritalStatus',          'has_children',\n",
              "                   'education',            'occupation',\n",
              "                      'income',                   'car',\n",
              "                         'Bar',           'CoffeeHouse',\n",
              "                   'CarryAway',  'RestaurantLessThan20',\n",
              "            'Restaurant20To50',      'toCoupon_GEQ5min',\n",
              "           'toCoupon_GEQ15min',     'toCoupon_GEQ25min',\n",
              "              'direction_same',         'direction_opp',\n",
              "                           'Y',                 'Snowy',\n",
              "                       'Sunny',                      55,\n",
              "                            80,                  '10AM',\n",
              "                        '10PM',                   '2PM',\n",
              "                         '6PM',                   '7AM',\n",
              "                         'Bar', 'Carry out & Take away',\n",
              "                'Coffee House',     'Restaurant(20-50)',\n",
              "             'Restaurant(<20)',                    '2h'],\n",
              "      dtype='object')"
            ]
          },
          "execution_count": 8,
          "metadata": {},
          "output_type": "execute_result"
        }
      ],
      "source": [
        "df_dummies = pd.concat([df_raw,weather,temperature,time,coupon,expiration],axis=1)\n",
        "df_dummies.info()\n",
        "df_dummies.columns"
      ]
    },
    {
      "cell_type": "markdown",
      "id": "23980fc0",
      "metadata": {
        "id": "23980fc0"
      },
      "source": [
        "Rename the duplicate 'Bar' column"
      ]
    },
    {
      "cell_type": "code",
      "execution_count": null,
      "id": "10e10c86",
      "metadata": {
        "id": "10e10c86"
      },
      "outputs": [],
      "source": [
        "# make a list of the duplicated columns\n",
        "duplicated_columns_list = []\n",
        "list_of_all_columns = list(df_dummies.columns)\n",
        "for column in list_of_all_columns:\n",
        "    if list_of_all_columns.count(column) > 1 and not column in duplicated_columns_list:\n",
        "        duplicated_columns_list.append(column)\n",
        "# append a number to the column name\n",
        "for column in duplicated_columns_list:\n",
        "    list_of_all_columns[list_of_all_columns.index(column)] = column + '_1'\n",
        "    list_of_all_columns[list_of_all_columns.index(column)] = column + '_2'\n",
        "# rename the columns in the dataframe\n",
        "df_dummies.columns = list_of_all_columns"
      ]
    },
    {
      "cell_type": "markdown",
      "id": "278a29b3",
      "metadata": {
        "id": "278a29b3"
      },
      "source": [
        "MAYBE: Change the temperature column names to be more descriptive (55 to cool55, 80 to warm80).\n",
        "\n",
        "MAYBE: Change the 2h column name to be more descriptive as 'shortExpiration'.\n",
        "\n",
        "MAYBE: drop the 800 answers with a blank in 'how many times do you visit x in a month' (6% of responses)"
      ]
    },
    {
      "cell_type": "code",
      "execution_count": null,
      "id": "05b7500d",
      "metadata": {
        "id": "05b7500d"
      },
      "outputs": [],
      "source": []
    },
    {
      "cell_type": "markdown",
      "id": "a36a551f",
      "metadata": {
        "id": "a36a551f"
      },
      "source": [
        "## Pre-processing"
      ]
    },
    {
      "cell_type": "markdown",
      "id": "1a1e3bdd",
      "metadata": {
        "id": "1a1e3bdd"
      },
      "source": [
        "Reduce the size of the dataframe by removing columns not currently of interest in a new dataframe 'df_mod'."
      ]
    },
    {
      "cell_type": "code",
      "execution_count": null,
      "id": "79f39e04",
      "metadata": {
        "scrolled": true,
        "id": "79f39e04",
        "outputId": "229c235d-ecaa-4df0-d728-eef1b3f52bba"
      },
      "outputs": [
        {
          "data": {
            "text/html": [
              "<div>\n",
              "<style scoped>\n",
              "    .dataframe tbody tr th:only-of-type {\n",
              "        vertical-align: middle;\n",
              "    }\n",
              "\n",
              "    .dataframe tbody tr th {\n",
              "        vertical-align: top;\n",
              "    }\n",
              "\n",
              "    .dataframe thead th {\n",
              "        text-align: right;\n",
              "    }\n",
              "</style>\n",
              "<table border=\"1\" class=\"dataframe\">\n",
              "  <thead>\n",
              "    <tr style=\"text-align: right;\">\n",
              "      <th></th>\n",
              "      <th>time</th>\n",
              "      <th>coupon</th>\n",
              "      <th>expiration</th>\n",
              "      <th>income</th>\n",
              "      <th>Bar_1</th>\n",
              "      <th>CoffeeHouse</th>\n",
              "      <th>CarryAway</th>\n",
              "      <th>RestaurantLessThan20</th>\n",
              "      <th>Restaurant20To50</th>\n",
              "      <th>toCoupon_GEQ5min</th>\n",
              "      <th>...</th>\n",
              "      <th>10PM</th>\n",
              "      <th>2PM</th>\n",
              "      <th>6PM</th>\n",
              "      <th>7AM</th>\n",
              "      <th>Bar_2</th>\n",
              "      <th>Carry out &amp; Take away</th>\n",
              "      <th>Coffee House</th>\n",
              "      <th>Restaurant(20-50)</th>\n",
              "      <th>Restaurant(&lt;20)</th>\n",
              "      <th>2h</th>\n",
              "    </tr>\n",
              "    <tr>\n",
              "      <th>destination</th>\n",
              "      <th></th>\n",
              "      <th></th>\n",
              "      <th></th>\n",
              "      <th></th>\n",
              "      <th></th>\n",
              "      <th></th>\n",
              "      <th></th>\n",
              "      <th></th>\n",
              "      <th></th>\n",
              "      <th></th>\n",
              "      <th></th>\n",
              "      <th></th>\n",
              "      <th></th>\n",
              "      <th></th>\n",
              "      <th></th>\n",
              "      <th></th>\n",
              "      <th></th>\n",
              "      <th></th>\n",
              "      <th></th>\n",
              "      <th></th>\n",
              "      <th></th>\n",
              "    </tr>\n",
              "  </thead>\n",
              "  <tbody>\n",
              "    <tr>\n",
              "      <th>No Urgent Place</th>\n",
              "      <td>2PM</td>\n",
              "      <td>Restaurant(&lt;20)</td>\n",
              "      <td>1d</td>\n",
              "      <td>$37500 - $49999</td>\n",
              "      <td>never</td>\n",
              "      <td>never</td>\n",
              "      <td>NaN</td>\n",
              "      <td>4~8</td>\n",
              "      <td>1~3</td>\n",
              "      <td>1</td>\n",
              "      <td>...</td>\n",
              "      <td>0</td>\n",
              "      <td>1</td>\n",
              "      <td>0</td>\n",
              "      <td>0</td>\n",
              "      <td>0</td>\n",
              "      <td>0</td>\n",
              "      <td>0</td>\n",
              "      <td>0</td>\n",
              "      <td>1</td>\n",
              "      <td>0</td>\n",
              "    </tr>\n",
              "    <tr>\n",
              "      <th>No Urgent Place</th>\n",
              "      <td>10AM</td>\n",
              "      <td>Coffee House</td>\n",
              "      <td>2h</td>\n",
              "      <td>$37500 - $49999</td>\n",
              "      <td>never</td>\n",
              "      <td>never</td>\n",
              "      <td>NaN</td>\n",
              "      <td>4~8</td>\n",
              "      <td>1~3</td>\n",
              "      <td>1</td>\n",
              "      <td>...</td>\n",
              "      <td>0</td>\n",
              "      <td>0</td>\n",
              "      <td>0</td>\n",
              "      <td>0</td>\n",
              "      <td>0</td>\n",
              "      <td>0</td>\n",
              "      <td>1</td>\n",
              "      <td>0</td>\n",
              "      <td>0</td>\n",
              "      <td>1</td>\n",
              "    </tr>\n",
              "    <tr>\n",
              "      <th>No Urgent Place</th>\n",
              "      <td>10AM</td>\n",
              "      <td>Carry out &amp; Take away</td>\n",
              "      <td>2h</td>\n",
              "      <td>$37500 - $49999</td>\n",
              "      <td>never</td>\n",
              "      <td>never</td>\n",
              "      <td>NaN</td>\n",
              "      <td>4~8</td>\n",
              "      <td>1~3</td>\n",
              "      <td>1</td>\n",
              "      <td>...</td>\n",
              "      <td>0</td>\n",
              "      <td>0</td>\n",
              "      <td>0</td>\n",
              "      <td>0</td>\n",
              "      <td>0</td>\n",
              "      <td>1</td>\n",
              "      <td>0</td>\n",
              "      <td>0</td>\n",
              "      <td>0</td>\n",
              "      <td>1</td>\n",
              "    </tr>\n",
              "    <tr>\n",
              "      <th>No Urgent Place</th>\n",
              "      <td>2PM</td>\n",
              "      <td>Coffee House</td>\n",
              "      <td>2h</td>\n",
              "      <td>$37500 - $49999</td>\n",
              "      <td>never</td>\n",
              "      <td>never</td>\n",
              "      <td>NaN</td>\n",
              "      <td>4~8</td>\n",
              "      <td>1~3</td>\n",
              "      <td>1</td>\n",
              "      <td>...</td>\n",
              "      <td>0</td>\n",
              "      <td>1</td>\n",
              "      <td>0</td>\n",
              "      <td>0</td>\n",
              "      <td>0</td>\n",
              "      <td>0</td>\n",
              "      <td>1</td>\n",
              "      <td>0</td>\n",
              "      <td>0</td>\n",
              "      <td>1</td>\n",
              "    </tr>\n",
              "    <tr>\n",
              "      <th>No Urgent Place</th>\n",
              "      <td>2PM</td>\n",
              "      <td>Coffee House</td>\n",
              "      <td>1d</td>\n",
              "      <td>$37500 - $49999</td>\n",
              "      <td>never</td>\n",
              "      <td>never</td>\n",
              "      <td>NaN</td>\n",
              "      <td>4~8</td>\n",
              "      <td>1~3</td>\n",
              "      <td>1</td>\n",
              "      <td>...</td>\n",
              "      <td>0</td>\n",
              "      <td>1</td>\n",
              "      <td>0</td>\n",
              "      <td>0</td>\n",
              "      <td>0</td>\n",
              "      <td>0</td>\n",
              "      <td>1</td>\n",
              "      <td>0</td>\n",
              "      <td>0</td>\n",
              "      <td>0</td>\n",
              "    </tr>\n",
              "  </tbody>\n",
              "</table>\n",
              "<p>5 rows × 30 columns</p>\n",
              "</div>"
            ],
            "text/plain": [
              "                 time                 coupon expiration           income  \\\n",
              "destination                                                                \n",
              "No Urgent Place   2PM        Restaurant(<20)         1d  $37500 - $49999   \n",
              "No Urgent Place  10AM           Coffee House         2h  $37500 - $49999   \n",
              "No Urgent Place  10AM  Carry out & Take away         2h  $37500 - $49999   \n",
              "No Urgent Place   2PM           Coffee House         2h  $37500 - $49999   \n",
              "No Urgent Place   2PM           Coffee House         1d  $37500 - $49999   \n",
              "\n",
              "                 Bar_1 CoffeeHouse CarryAway RestaurantLessThan20  \\\n",
              "destination                                                         \n",
              "No Urgent Place  never       never       NaN                  4~8   \n",
              "No Urgent Place  never       never       NaN                  4~8   \n",
              "No Urgent Place  never       never       NaN                  4~8   \n",
              "No Urgent Place  never       never       NaN                  4~8   \n",
              "No Urgent Place  never       never       NaN                  4~8   \n",
              "\n",
              "                Restaurant20To50  toCoupon_GEQ5min  ...  10PM  2PM  6PM  7AM  \\\n",
              "destination                                         ...                        \n",
              "No Urgent Place              1~3                 1  ...     0    1    0    0   \n",
              "No Urgent Place              1~3                 1  ...     0    0    0    0   \n",
              "No Urgent Place              1~3                 1  ...     0    0    0    0   \n",
              "No Urgent Place              1~3                 1  ...     0    1    0    0   \n",
              "No Urgent Place              1~3                 1  ...     0    1    0    0   \n",
              "\n",
              "                 Bar_2  Carry out & Take away  Coffee House  \\\n",
              "destination                                                   \n",
              "No Urgent Place      0                      0             0   \n",
              "No Urgent Place      0                      0             1   \n",
              "No Urgent Place      0                      1             0   \n",
              "No Urgent Place      0                      0             1   \n",
              "No Urgent Place      0                      0             1   \n",
              "\n",
              "                 Restaurant(20-50)  Restaurant(<20)  2h  \n",
              "destination                                              \n",
              "No Urgent Place                  0                1   0  \n",
              "No Urgent Place                  0                0   1  \n",
              "No Urgent Place                  0                0   1  \n",
              "No Urgent Place                  0                0   1  \n",
              "No Urgent Place                  0                0   0  \n",
              "\n",
              "[5 rows x 30 columns]"
            ]
          },
          "execution_count": 37,
          "metadata": {},
          "output_type": "execute_result"
        }
      ],
      "source": [
        "# not dropping coupon to use for heatmap\n",
        "# not dropping expiration to use for filter\n",
        "df_mod = df_dummies.drop(['passenger','weather','temperature', 'gender','age','maritalStatus','has_children','education','occupation','car'], axis=1)\n",
        "df_mod.head()"
      ]
    },
    {
      "cell_type": "markdown",
      "id": "2fefa19e",
      "metadata": {
        "id": "2fefa19e"
      },
      "source": [
        "## Descriptive Methods"
      ]
    },
    {
      "cell_type": "markdown",
      "id": "2c22fe40",
      "metadata": {
        "id": "2c22fe40"
      },
      "source": [
        "Bar graph to show counts of survey participants per income group"
      ]
    },
    {
      "cell_type": "code",
      "execution_count": null,
      "id": "af64cb57",
      "metadata": {
        "id": "af64cb57",
        "outputId": "8dc2dd92-b055-4195-a242-0d93710ba853"
      },
      "outputs": [
        {
          "data": {
            "text/plain": [
              "<AxesSubplot:xlabel='income', ylabel='count'>"
            ]
          },
          "execution_count": 38,
          "metadata": {},
          "output_type": "execute_result"
        },
        {
          "data": {
            "image/png": "[encoded data removed]",
            "text/plain": [
              "<Figure size 1200x600 with 1 Axes>"
            ]
          },
          "metadata": {},
          "output_type": "display_data"
        }
      ],
      "source": [
        "# define an order for the incomes\n",
        "incomeOrder = ['Less than $12500', '$12500 - $24999', '$25000 - $37499', '$37500 - $49999', '$50000 - $62499', '$62500 - $74999', '$75000 - $87499', '$87500 - $99999', '$100000 or More']\n",
        "plt.figure(figsize=(12,6))\n",
        "plt.xticks(rotation=45, horizontalalignment='right', fontsize='large')\n",
        "sns.countplot(x='income',data=df_mod,palette='colorblind',order=incomeOrder)"
      ]
    },
    {
      "cell_type": "markdown",
      "id": "2b8635ce",
      "metadata": {
        "id": "2b8635ce"
      },
      "source": [
        "Heatmap to show when each type of short duration coupon is accepted the most\n",
        "\n",
        "Step 1: Get the total coupons offered for each type and time combo (ex: Bar coupon offered at 7AM)"
      ]
    },
    {
      "cell_type": "code",
      "execution_count": null,
      "id": "c5407181",
      "metadata": {
        "id": "c5407181",
        "outputId": "156a567a-c602-460d-f7c8-381c38cda569"
      },
      "outputs": [
        {
          "data": {
            "text/html": [
              "<div>\n",
              "<style scoped>\n",
              "    .dataframe tbody tr th:only-of-type {\n",
              "        vertical-align: middle;\n",
              "    }\n",
              "\n",
              "    .dataframe tbody tr th {\n",
              "        vertical-align: top;\n",
              "    }\n",
              "\n",
              "    .dataframe thead th {\n",
              "        text-align: right;\n",
              "    }\n",
              "</style>\n",
              "<table border=\"1\" class=\"dataframe\">\n",
              "  <thead>\n",
              "    <tr style=\"text-align: right;\">\n",
              "      <th>coupon</th>\n",
              "      <th>Bar</th>\n",
              "      <th>Carry out &amp; Take away</th>\n",
              "      <th>Coffee House</th>\n",
              "      <th>Restaurant(20-50)</th>\n",
              "      <th>Restaurant(&lt;20)</th>\n",
              "    </tr>\n",
              "    <tr>\n",
              "      <th>time</th>\n",
              "      <th></th>\n",
              "      <th></th>\n",
              "      <th></th>\n",
              "      <th></th>\n",
              "      <th></th>\n",
              "    </tr>\n",
              "  </thead>\n",
              "  <tbody>\n",
              "    <tr>\n",
              "      <th>7AM</th>\n",
              "      <td>487</td>\n",
              "      <td>762</td>\n",
              "      <td>913</td>\n",
              "      <td>429</td>\n",
              "      <td>573</td>\n",
              "    </tr>\n",
              "    <tr>\n",
              "      <th>10AM</th>\n",
              "      <td>444</td>\n",
              "      <td>517</td>\n",
              "      <td>899</td>\n",
              "      <td>112</td>\n",
              "      <td>303</td>\n",
              "    </tr>\n",
              "    <tr>\n",
              "      <th>2PM</th>\n",
              "      <td>118</td>\n",
              "      <td>218</td>\n",
              "      <td>794</td>\n",
              "      <td>182</td>\n",
              "      <td>697</td>\n",
              "    </tr>\n",
              "    <tr>\n",
              "      <th>6PM</th>\n",
              "      <td>566</td>\n",
              "      <td>435</td>\n",
              "      <td>1093</td>\n",
              "      <td>388</td>\n",
              "      <td>748</td>\n",
              "    </tr>\n",
              "    <tr>\n",
              "      <th>10PM</th>\n",
              "      <td>402</td>\n",
              "      <td>461</td>\n",
              "      <td>297</td>\n",
              "      <td>381</td>\n",
              "      <td>465</td>\n",
              "    </tr>\n",
              "  </tbody>\n",
              "</table>\n",
              "</div>"
            ],
            "text/plain": [
              "coupon  Bar  Carry out & Take away  Coffee House  Restaurant(20-50)  \\\n",
              "time                                                                  \n",
              "7AM     487                    762           913                429   \n",
              "10AM    444                    517           899                112   \n",
              "2PM     118                    218           794                182   \n",
              "6PM     566                    435          1093                388   \n",
              "10PM    402                    461           297                381   \n",
              "\n",
              "coupon  Restaurant(<20)  \n",
              "time                     \n",
              "7AM                 573  \n",
              "10AM                303  \n",
              "2PM                 697  \n",
              "6PM                 748  \n",
              "10PM                465  "
            ]
          },
          "execution_count": 39,
          "metadata": {},
          "output_type": "execute_result"
        }
      ],
      "source": [
        "# define an order for the string times\n",
        "# TODO: could instead change to military time and let it uint8 sort, less readable for 12hr time people\n",
        "timeOrder = ['7AM', '10AM', '2PM', '6PM', '10PM']\n",
        "\n",
        "# create a new dataframe which counts how many of each type of coupon ('coupon') is offered at each time of day ('time')\n",
        "timeTypeOffered = df_mod.groupby(by=['time','coupon']).count()['Y'].unstack()\n",
        "# timeTypeOffered.columns = ['Bar Offered', 'Carryout & Take away Offered', 'Coffee House Offered', 'Restaurant(<20) Offered', 'Restaurant(20-50) Offered']\n",
        "# fix the order of times\n",
        "timeTypeOffered.index = pd.CategoricalIndex(timeTypeOffered.index, categories=timeOrder)\n",
        "timeTypeOffered.sort_index(level=0, inplace=True)\n",
        "# check the values\n",
        "timeTypeOffered.head()\n",
        "\n",
        "# 'coupon' categories: Bar, Carryout & Take away, Coffee House, Restaurant(<20), Restaurant(20-50)\n",
        "# TODO: calculate total accepted coupon for each type\n",
        "# TODO: calculate percentage (accepted/offered) for each type"
      ]
    },
    {
      "cell_type": "code",
      "execution_count": null,
      "id": "cee3525f",
      "metadata": {
        "id": "cee3525f",
        "outputId": "73d38ca1-8050-4634-9d71-5461a3960996"
      },
      "outputs": [
        {
          "data": {
            "image/png": "[encoded data removed]",
            "text/plain": [
              "<Figure size 1200x600 with 2 Axes>"
            ]
          },
          "metadata": {},
          "output_type": "display_data"
        }
      ],
      "source": [
        "# create a heatmap with yaxis inverted (default seaborn behavior puts index 0 at the top left and runs down the graph)\n",
        "plt.figure(figsize=(12,6))\n",
        "plt.xticks(rotation=45, horizontalalignment='right', fontsize='medium')\n",
        "plt.title('Total Coupons Offered')\n",
        "sns.heatmap(timeTypeOffered,cmap='coolwarm').invert_yaxis()"
      ]
    },
    {
      "cell_type": "markdown",
      "id": "e81daa46",
      "metadata": {
        "id": "e81daa46"
      },
      "source": [
        "Step 2: Get the total coupons accepted for each type and time combo (ex: Bar coupon offered at 7AM)"
      ]
    },
    {
      "cell_type": "code",
      "execution_count": null,
      "id": "d55b9e91",
      "metadata": {
        "id": "d55b9e91",
        "outputId": "9899ad41-fd71-4f19-b49b-ada70035590f"
      },
      "outputs": [
        {
          "data": {
            "text/html": [
              "<div>\n",
              "<style scoped>\n",
              "    .dataframe tbody tr th:only-of-type {\n",
              "        vertical-align: middle;\n",
              "    }\n",
              "\n",
              "    .dataframe tbody tr th {\n",
              "        vertical-align: top;\n",
              "    }\n",
              "\n",
              "    .dataframe thead th {\n",
              "        text-align: right;\n",
              "    }\n",
              "</style>\n",
              "<table border=\"1\" class=\"dataframe\">\n",
              "  <thead>\n",
              "    <tr style=\"text-align: right;\">\n",
              "      <th>coupon</th>\n",
              "      <th>Bar</th>\n",
              "      <th>Carry out &amp; Take away</th>\n",
              "      <th>Coffee House</th>\n",
              "      <th>Restaurant(20-50)</th>\n",
              "      <th>Restaurant(&lt;20)</th>\n",
              "    </tr>\n",
              "    <tr>\n",
              "      <th>time</th>\n",
              "      <th></th>\n",
              "      <th></th>\n",
              "      <th></th>\n",
              "      <th></th>\n",
              "      <th></th>\n",
              "    </tr>\n",
              "  </thead>\n",
              "  <tbody>\n",
              "    <tr>\n",
              "      <th>7AM</th>\n",
              "      <td>178</td>\n",
              "      <td>499</td>\n",
              "      <td>407</td>\n",
              "      <td>171</td>\n",
              "      <td>334</td>\n",
              "    </tr>\n",
              "    <tr>\n",
              "      <th>10AM</th>\n",
              "      <td>161</td>\n",
              "      <td>363</td>\n",
              "      <td>576</td>\n",
              "      <td>69</td>\n",
              "      <td>215</td>\n",
              "    </tr>\n",
              "    <tr>\n",
              "      <th>2PM</th>\n",
              "      <td>40</td>\n",
              "      <td>189</td>\n",
              "      <td>435</td>\n",
              "      <td>98</td>\n",
              "      <td>567</td>\n",
              "    </tr>\n",
              "    <tr>\n",
              "      <th>6PM</th>\n",
              "      <td>264</td>\n",
              "      <td>359</td>\n",
              "      <td>451</td>\n",
              "      <td>195</td>\n",
              "      <td>619</td>\n",
              "    </tr>\n",
              "    <tr>\n",
              "      <th>10PM</th>\n",
              "      <td>184</td>\n",
              "      <td>350</td>\n",
              "      <td>126</td>\n",
              "      <td>125</td>\n",
              "      <td>235</td>\n",
              "    </tr>\n",
              "  </tbody>\n",
              "</table>\n",
              "</div>"
            ],
            "text/plain": [
              "coupon  Bar  Carry out & Take away  Coffee House  Restaurant(20-50)  \\\n",
              "time                                                                  \n",
              "7AM     178                    499           407                171   \n",
              "10AM    161                    363           576                 69   \n",
              "2PM      40                    189           435                 98   \n",
              "6PM     264                    359           451                195   \n",
              "10PM    184                    350           126                125   \n",
              "\n",
              "coupon  Restaurant(<20)  \n",
              "time                     \n",
              "7AM                 334  \n",
              "10AM                215  \n",
              "2PM                 567  \n",
              "6PM                 619  \n",
              "10PM                235  "
            ]
          },
          "execution_count": 94,
          "metadata": {},
          "output_type": "execute_result"
        }
      ],
      "source": [
        "# total = timeType.groupby(by=['Day of Week','Hour']).count()['Reason'].unstack()\n",
        "timeTypeAccepted = df_mod.groupby(by=['time','coupon']).sum()['Y'].unstack()\n",
        "# rename the columns to keep them distinct from the total offered\n",
        "# timeTypeAccepted.columns = ['Bar Accepted', 'Carryout Accepted', 'Coffee House Accepted', 'Restaurant(<20) Accepted', 'Restaurant(20-50) Accepted']\n",
        "# fix the order of times\n",
        "timeTypeAccepted.index = pd.CategoricalIndex(timeTypeAccepted.index, categories=timeOrder)\n",
        "timeTypeAccepted.sort_index(level=0, inplace=True)\n",
        "# check the values\n",
        "timeTypeAccepted.head()"
      ]
    },
    {
      "cell_type": "code",
      "execution_count": null,
      "id": "abda9860",
      "metadata": {
        "id": "abda9860",
        "outputId": "3c6c42e9-5e1b-48c4-a1ca-ca56d2ad0fe3"
      },
      "outputs": [
        {
          "data": {
            "image/png": "[encoded data removed]",
            "text/plain": [
              "<Figure size 1200x600 with 2 Axes>"
            ]
          },
          "metadata": {},
          "output_type": "display_data"
        }
      ],
      "source": [
        "# create a heatmap with yaxis inverted (default seaborn behavior puts index 0 at the top left and runs down the graph)\n",
        "plt.figure(figsize=(12,6))\n",
        "plt.xticks(rotation=45, horizontalalignment='right', fontsize='medium')\n",
        "plt.title('Total Coupons Accepted')\n",
        "sns.heatmap(timeTypeAccepted,cmap='coolwarm').invert_yaxis()"
      ]
    },
    {
      "cell_type": "markdown",
      "id": "6dc2fcf7",
      "metadata": {
        "id": "6dc2fcf7"
      },
      "source": [
        "Step 3: Calculate the percentage coupons accepted for each type and time combo (ex: Bar coupon offered at 7AM)"
      ]
    },
    {
      "cell_type": "code",
      "execution_count": null,
      "id": "b6ebece6",
      "metadata": {
        "id": "b6ebece6",
        "outputId": "a1e6faa1-c0a2-4e8a-e7ee-2fca41c957c3"
      },
      "outputs": [
        {
          "data": {
            "text/html": [
              "<div>\n",
              "<style scoped>\n",
              "    .dataframe tbody tr th:only-of-type {\n",
              "        vertical-align: middle;\n",
              "    }\n",
              "\n",
              "    .dataframe tbody tr th {\n",
              "        vertical-align: top;\n",
              "    }\n",
              "\n",
              "    .dataframe thead th {\n",
              "        text-align: right;\n",
              "    }\n",
              "</style>\n",
              "<table border=\"1\" class=\"dataframe\">\n",
              "  <thead>\n",
              "    <tr style=\"text-align: right;\">\n",
              "      <th>coupon</th>\n",
              "      <th>Bar</th>\n",
              "      <th>Carry out &amp; Take away</th>\n",
              "      <th>Coffee House</th>\n",
              "      <th>Restaurant(20-50)</th>\n",
              "      <th>Restaurant(&lt;20)</th>\n",
              "    </tr>\n",
              "    <tr>\n",
              "      <th>time</th>\n",
              "      <th></th>\n",
              "      <th></th>\n",
              "      <th></th>\n",
              "      <th></th>\n",
              "      <th></th>\n",
              "    </tr>\n",
              "  </thead>\n",
              "  <tbody>\n",
              "    <tr>\n",
              "      <th>7AM</th>\n",
              "      <td>36.550308</td>\n",
              "      <td>65.485564</td>\n",
              "      <td>44.578313</td>\n",
              "      <td>39.860140</td>\n",
              "      <td>58.289703</td>\n",
              "    </tr>\n",
              "    <tr>\n",
              "      <th>10AM</th>\n",
              "      <td>36.261261</td>\n",
              "      <td>70.212766</td>\n",
              "      <td>64.071190</td>\n",
              "      <td>61.607143</td>\n",
              "      <td>70.957096</td>\n",
              "    </tr>\n",
              "    <tr>\n",
              "      <th>2PM</th>\n",
              "      <td>33.898305</td>\n",
              "      <td>86.697248</td>\n",
              "      <td>54.785894</td>\n",
              "      <td>53.846154</td>\n",
              "      <td>81.348637</td>\n",
              "    </tr>\n",
              "    <tr>\n",
              "      <th>6PM</th>\n",
              "      <td>46.643110</td>\n",
              "      <td>82.528736</td>\n",
              "      <td>41.262580</td>\n",
              "      <td>50.257732</td>\n",
              "      <td>82.754011</td>\n",
              "    </tr>\n",
              "    <tr>\n",
              "      <th>10PM</th>\n",
              "      <td>45.771144</td>\n",
              "      <td>75.921909</td>\n",
              "      <td>42.424242</td>\n",
              "      <td>32.808399</td>\n",
              "      <td>50.537634</td>\n",
              "    </tr>\n",
              "  </tbody>\n",
              "</table>\n",
              "</div>"
            ],
            "text/plain": [
              "coupon        Bar  Carry out & Take away  Coffee House  Restaurant(20-50)  \\\n",
              "time                                                                        \n",
              "7AM     36.550308              65.485564     44.578313          39.860140   \n",
              "10AM    36.261261              70.212766     64.071190          61.607143   \n",
              "2PM     33.898305              86.697248     54.785894          53.846154   \n",
              "6PM     46.643110              82.528736     41.262580          50.257732   \n",
              "10PM    45.771144              75.921909     42.424242          32.808399   \n",
              "\n",
              "coupon  Restaurant(<20)  \n",
              "time                     \n",
              "7AM           58.289703  \n",
              "10AM          70.957096  \n",
              "2PM           81.348637  \n",
              "6PM           82.754011  \n",
              "10PM          50.537634  "
            ]
          },
          "execution_count": 43,
          "metadata": {},
          "output_type": "execute_result"
        }
      ],
      "source": [
        "# Example: Bar 7 AM: 161 Accepted out of 444 Offered, 161/444 = 36%\n",
        "timeTypePercent = (timeTypeAccepted/timeTypeOffered)*100\n",
        "timeTypePercent.index = pd.CategoricalIndex(timeTypePercent.index, categories=timeOrder)\n",
        "timeTypePercent.sort_index(level=0, inplace=True)\n",
        "# Check the values\n",
        "timeTypePercent.head()"
      ]
    },
    {
      "cell_type": "code",
      "execution_count": null,
      "id": "561a7289",
      "metadata": {
        "id": "561a7289",
        "outputId": "6e536452-c17b-4865-bc33-9ba88310216e"
      },
      "outputs": [
        {
          "data": {
            "image/png": "[encoded data removed]",
            "text/plain": [
              "<Figure size 1200x600 with 2 Axes>"
            ]
          },
          "metadata": {},
          "output_type": "display_data"
        }
      ],
      "source": [
        "plt.figure(figsize=(12,6))\n",
        "plt.xticks(rotation=45, horizontalalignment='right', fontsize='medium')\n",
        "plt.title('Percent Coupons Accepted')\n",
        "# adjust the range from 0 to 100 and increase annotation font size\n",
        "sns.heatmap(timeTypePercent,cmap='coolwarm',vmin=0,vmax=100,annot=True, annot_kws={'fontsize':12}).invert_yaxis()"
      ]
    },
    {
      "cell_type": "markdown",
      "id": "150969ce",
      "metadata": {
        "id": "150969ce"
      },
      "source": [
        "Bar graph to show accepted versus unaccepted short duration coupons with a series for each type(s) of coupon (bar, low cost restaurant, coffee, etc.)"
      ]
    },
    {
      "cell_type": "code",
      "execution_count": null,
      "id": "9611c452",
      "metadata": {
        "id": "9611c452",
        "outputId": "ff701240-eed7-47f9-9b29-4ff548ac30d6"
      },
      "outputs": [
        {
          "data": {
            "text/html": [
              "<div>\n",
              "<style scoped>\n",
              "    .dataframe tbody tr th:only-of-type {\n",
              "        vertical-align: middle;\n",
              "    }\n",
              "\n",
              "    .dataframe tbody tr th {\n",
              "        vertical-align: top;\n",
              "    }\n",
              "\n",
              "    .dataframe thead th {\n",
              "        text-align: right;\n",
              "    }\n",
              "</style>\n",
              "<table border=\"1\" class=\"dataframe\">\n",
              "  <thead>\n",
              "    <tr style=\"text-align: right;\">\n",
              "      <th></th>\n",
              "      <th>Coupons Offered</th>\n",
              "      <th>Coupons Accepted</th>\n",
              "    </tr>\n",
              "    <tr>\n",
              "      <th>coupon</th>\n",
              "      <th></th>\n",
              "      <th></th>\n",
              "    </tr>\n",
              "  </thead>\n",
              "  <tbody>\n",
              "    <tr>\n",
              "      <th>Bar</th>\n",
              "      <td>461</td>\n",
              "      <td>186</td>\n",
              "    </tr>\n",
              "    <tr>\n",
              "      <th>Carry out &amp; Take away</th>\n",
              "      <td>937</td>\n",
              "      <td>622</td>\n",
              "    </tr>\n",
              "    <tr>\n",
              "      <th>Coffee House</th>\n",
              "      <td>2227</td>\n",
              "      <td>962</td>\n",
              "    </tr>\n",
              "    <tr>\n",
              "      <th>Restaurant(20-50)</th>\n",
              "      <td>536</td>\n",
              "      <td>160</td>\n",
              "    </tr>\n",
              "    <tr>\n",
              "      <th>Restaurant(&lt;20)</th>\n",
              "      <td>1432</td>\n",
              "      <td>844</td>\n",
              "    </tr>\n",
              "  </tbody>\n",
              "</table>\n",
              "</div>"
            ],
            "text/plain": [
              "                       Coupons Offered  Coupons Accepted\n",
              "coupon                                                  \n",
              "Bar                                461               186\n",
              "Carry out & Take away              937               622\n",
              "Coffee House                      2227               962\n",
              "Restaurant(20-50)                  536               160\n",
              "Restaurant(<20)                   1432               844"
            ]
          },
          "execution_count": 67,
          "metadata": {},
          "output_type": "execute_result"
        }
      ],
      "source": [
        "# count some column without nulls to find total number of coupons offered\n",
        "couponOffered = df_mod[df_mod['2h'] == 1].groupby(by=['coupon']).count()['income']\n",
        "couponAccepted = df_mod[df_mod['2h'] == 1].groupby(by=['coupon']).sum()['Y']\n",
        "# create the dataframe which will be plotted\n",
        "couponOutcomes = pd.concat([couponOffered, couponAccepted], axis=1)\n",
        "couponOutcomes.columns = ['Coupons Offered', 'Coupons Accepted']\n",
        "couponOutcomes.head()"
      ]
    },
    {
      "cell_type": "code",
      "execution_count": null,
      "id": "0a127d03",
      "metadata": {
        "id": "0a127d03",
        "outputId": "0dd2bc7b-eb65-42bd-a9a8-6950b79586ee"
      },
      "outputs": [
        {
          "data": {
            "image/png": "[encoded data removed]",
            "text/plain": [
              "<Figure size 640x480 with 1 Axes>"
            ]
          },
          "metadata": {},
          "output_type": "display_data"
        }
      ],
      "source": [
        "couponOutcomes.plot(kind='bar')\n",
        "plt.title('Short Duration (2h) Coupons Outcomes')\n",
        "plt.xticks(rotation=45, horizontalalignment='right', fontsize='medium')\n",
        "plt.show()"
      ]
    },
    {
      "cell_type": "markdown",
      "id": "010f2f88",
      "metadata": {
        "id": "010f2f88"
      },
      "source": [
        "Define an interactive graph."
      ]
    },
    {
      "cell_type": "code",
      "execution_count": null,
      "id": "ef289b4a",
      "metadata": {
        "id": "ef289b4a"
      },
      "outputs": [],
      "source": [
        "# Make a dropdown to select the coupon duration, or \"All\"\n",
        "couponExpiration = widgets.Dropdown(\n",
        "    options=['All'] + list(df_mod['expiration'].unique()),\n",
        "    value='All',\n",
        "    description='Expiration:',\n",
        ")\n",
        "\n",
        "# filters the dataframe based on selected coupon duration\n",
        "def expPlot(couponExpiration):\n",
        "    df_mod2 = df_mod.copy()\n",
        "    if couponExpiration != 'All':\n",
        "        df_mod2 = df_mod2[df_mod2.expiration == couponExpiration]\n",
        "\n",
        "    # Plot it (only if there's data to plot)\n",
        "    if len(df_mod2) > 0:\n",
        "        df_mod2.groupby(['coupon','expiration']).count()['income'].unstack().plot(kind='bar', stacked=True)\n",
        "        plt.title('Filterable Coupons Offered')\n",
        "        plt.xticks(rotation=45, horizontalalignment='right', fontsize='medium')\n",
        "        plt.show();\n",
        "    else:\n",
        "        print(\"No data to show for current selection\")"
      ]
    },
    {
      "cell_type": "code",
      "execution_count": null,
      "id": "07be16b4",
      "metadata": {
        "scrolled": false,
        "colab": {
          "referenced_widgets": [
            "375335623c5c417795c4de76c39719ed"
          ]
        },
        "id": "07be16b4",
        "outputId": "d3caca12-753d-47bc-f4c7-67ad19df559f"
      },
      "outputs": [
        {
          "data": {
            "application/vnd.jupyter.widget-view+json": {
              "model_id": "375335623c5c417795c4de76c39719ed",
              "version_major": 2,
              "version_minor": 0
            },
            "text/plain": [
              "interactive(children=(Dropdown(description='Expiration:', options=('All', '1d', '2h'), value='All'), Output())…"
            ]
          },
          "metadata": {},
          "output_type": "display_data"
        }
      ],
      "source": [
        "interactive(expPlot, couponExpiration=couponExpiration)"
      ]
    },
    {
      "cell_type": "code",
      "execution_count": null,
      "id": "8723d415",
      "metadata": {
        "id": "8723d415"
      },
      "outputs": [],
      "source": []
    },
    {
      "cell_type": "markdown",
      "id": "e1e10601",
      "metadata": {
        "id": "e1e10601"
      },
      "source": [
        "## Predictive Method"
      ]
    },
    {
      "cell_type": "markdown",
      "id": "afb4873b",
      "metadata": {
        "id": "afb4873b"
      },
      "source": [
        "Use K-means clustering to prescribe at what time of day customers would accept any coupon offer at a high rate."
      ]
    },
    {
      "cell_type": "code",
      "execution_count": null,
      "id": "604c63b5",
      "metadata": {
        "id": "604c63b5",
        "outputId": "cbcbb8e5-1941-4a2d-feb0-ee15a17d7d9f"
      },
      "outputs": [
        {
          "data": {
            "text/html": [
              "<div>\n",
              "<style scoped>\n",
              "    .dataframe tbody tr th:only-of-type {\n",
              "        vertical-align: middle;\n",
              "    }\n",
              "\n",
              "    .dataframe tbody tr th {\n",
              "        vertical-align: top;\n",
              "    }\n",
              "\n",
              "    .dataframe thead th {\n",
              "        text-align: right;\n",
              "    }\n",
              "</style>\n",
              "<table border=\"1\" class=\"dataframe\">\n",
              "  <thead>\n",
              "    <tr style=\"text-align: right;\">\n",
              "      <th></th>\n",
              "      <th>7AM</th>\n",
              "      <th>10AM</th>\n",
              "      <th>2PM</th>\n",
              "      <th>6PM</th>\n",
              "      <th>10PM</th>\n",
              "      <th>Y</th>\n",
              "    </tr>\n",
              "  </thead>\n",
              "  <tbody>\n",
              "    <tr>\n",
              "      <th>0</th>\n",
              "      <td>0</td>\n",
              "      <td>0</td>\n",
              "      <td>1</td>\n",
              "      <td>0</td>\n",
              "      <td>0</td>\n",
              "      <td>1</td>\n",
              "    </tr>\n",
              "    <tr>\n",
              "      <th>1</th>\n",
              "      <td>0</td>\n",
              "      <td>1</td>\n",
              "      <td>0</td>\n",
              "      <td>0</td>\n",
              "      <td>0</td>\n",
              "      <td>0</td>\n",
              "    </tr>\n",
              "    <tr>\n",
              "      <th>2</th>\n",
              "      <td>0</td>\n",
              "      <td>1</td>\n",
              "      <td>0</td>\n",
              "      <td>0</td>\n",
              "      <td>0</td>\n",
              "      <td>1</td>\n",
              "    </tr>\n",
              "    <tr>\n",
              "      <th>3</th>\n",
              "      <td>0</td>\n",
              "      <td>0</td>\n",
              "      <td>1</td>\n",
              "      <td>0</td>\n",
              "      <td>0</td>\n",
              "      <td>0</td>\n",
              "    </tr>\n",
              "    <tr>\n",
              "      <th>4</th>\n",
              "      <td>0</td>\n",
              "      <td>0</td>\n",
              "      <td>1</td>\n",
              "      <td>0</td>\n",
              "      <td>0</td>\n",
              "      <td>0</td>\n",
              "    </tr>\n",
              "  </tbody>\n",
              "</table>\n",
              "</div>"
            ],
            "text/plain": [
              "   7AM  10AM  2PM  6PM  10PM  Y\n",
              "0    0     0    1    0     0  1\n",
              "1    0     1    0    0     0  0\n",
              "2    0     1    0    0     0  1\n",
              "3    0     0    1    0     0  0\n",
              "4    0     0    1    0     0  0"
            ]
          },
          "execution_count": 36,
          "metadata": {},
          "output_type": "execute_result"
        }
      ],
      "source": [
        "# create a dataframe limited only to the factors which will be considered for prediction\n",
        "# df_predict = df_mod[['Bar_2','Carry out & Take away','Coffee House','Restaurant(20-50)','Restaurant(<20)','Y']].copy()\n",
        "df_predict = df_mod[['7AM','10AM','2PM','6PM','10PM','Y']].copy()\n",
        "df_predict.reset_index(drop=True, inplace=True)\n",
        "df_predict.head()"
      ]
    },
    {
      "cell_type": "markdown",
      "id": "cebf5e0d",
      "metadata": {
        "id": "cebf5e0d"
      },
      "source": [
        "Use train_test_split to split data into a training set and a testing set."
      ]
    },
    {
      "cell_type": "code",
      "execution_count": null,
      "id": "85306a6c",
      "metadata": {
        "id": "85306a6c"
      },
      "outputs": [],
      "source": [
        "from sklearn.model_selection import train_test_split"
      ]
    },
    {
      "cell_type": "code",
      "execution_count": null,
      "id": "19164cc2",
      "metadata": {
        "id": "19164cc2"
      },
      "outputs": [],
      "source": [
        "X_train, X_test, y_train, y_test = train_test_split(df_predict.drop('Y',axis=1),df_predict['Y'],test_size=0.3)"
      ]
    },
    {
      "cell_type": "markdown",
      "id": "eccd2230",
      "metadata": {
        "id": "eccd2230"
      },
      "source": [
        "Import KNeighborsClassifier from scikit learn, create a KNN model, and fit it to the training data."
      ]
    },
    {
      "cell_type": "code",
      "execution_count": null,
      "id": "7c07c5ac",
      "metadata": {
        "id": "7c07c5ac",
        "outputId": "e0a4668d-a412-481e-d87f-2be98f072354"
      },
      "outputs": [
        {
          "data": {
            "text/plain": [
              "KNeighborsClassifier(n_neighbors=17)"
            ]
          },
          "execution_count": 44,
          "metadata": {},
          "output_type": "execute_result"
        }
      ],
      "source": [
        "from sklearn.neighbors import KNeighborsClassifier\n",
        "knn = KNeighborsClassifier(n_neighbors=17)\n",
        "knn.fit(X_train,y_train)"
      ]
    },
    {
      "cell_type": "markdown",
      "id": "03c9d72b",
      "metadata": {
        "id": "03c9d72b"
      },
      "source": [
        "Use the predict method to predict values using your KNN model and X_test."
      ]
    },
    {
      "cell_type": "code",
      "execution_count": null,
      "id": "94f26e50",
      "metadata": {
        "id": "94f26e50",
        "outputId": "c7c076ac-765b-4f1b-be5a-e0051a30e950"
      },
      "outputs": [
        {
          "name": "stderr",
          "output_type": "stream",
          "text": [
            "C:\\Users\\armin\\anaconda3\\lib\\site-packages\\sklearn\\neighbors\\_classification.py:228: FutureWarning: Unlike other reduction functions (e.g. `skew`, `kurtosis`), the default behavior of `mode` typically preserves the axis it acts along. In SciPy 1.11.0, this behavior will change: the default value of `keepdims` will become False, the `axis` over which the statistic is taken will be eliminated, and the value None will no longer be accepted. Set `keepdims` to True or False to avoid this warning.\n",
            "  mode, _ = stats.mode(_y[neigh_ind, k], axis=1)\n"
          ]
        }
      ],
      "source": [
        "pred = knn.predict(X_test)"
      ]
    },
    {
      "cell_type": "markdown",
      "id": "f7c7998d",
      "metadata": {
        "id": "f7c7998d"
      },
      "source": [
        "Evaluate the model using a confusion matrix and classification report."
      ]
    },
    {
      "cell_type": "code",
      "execution_count": null,
      "id": "53ffef80",
      "metadata": {
        "id": "53ffef80",
        "outputId": "b6d74599-7f69-4fc6-94f3-3803455cd0c4"
      },
      "outputs": [
        {
          "name": "stdout",
          "output_type": "stream",
          "text": [
            "Confusion Matrix\n"
          ]
        },
        {
          "data": {
            "image/png": "[encoded data removed]",
            "text/plain": [
              "<Figure size 640x480 with 2 Axes>"
            ]
          },
          "metadata": {},
          "output_type": "display_data"
        },
        {
          "name": "stdout",
          "output_type": "stream",
          "text": [
            "Classification Report\n",
            "              precision    recall  f1-score   support\n",
            "\n",
            "           0       0.49      0.47      0.48      1636\n",
            "           1       0.61      0.63      0.62      2170\n",
            "\n",
            "    accuracy                           0.56      3806\n",
            "   macro avg       0.55      0.55      0.55      3806\n",
            "weighted avg       0.56      0.56      0.56      3806\n",
            "\n"
          ]
        }
      ],
      "source": [
        "from sklearn.metrics import classification_report,confusion_matrix,ConfusionMatrixDisplay\n",
        "print(\"Confusion Matrix\")\n",
        "confusion_matrix = confusion_matrix(y_test, pred)\n",
        "cm_display = ConfusionMatrixDisplay(confusion_matrix = confusion_matrix, display_labels = [False, True])\n",
        "cm_display.plot()\n",
        "plt.show()\n",
        "\n",
        "# print(confusion_matrix(y_test,pred))\n",
        "print(\"Classification Report\")\n",
        "print(classification_report(y_test,pred))"
      ]
    },
    {
      "cell_type": "markdown",
      "id": "0c489a3a",
      "metadata": {
        "id": "0c489a3a"
      },
      "source": []
    },
    {
      "cell_type": "code",
      "execution_count": null,
      "id": "26869740",
      "metadata": {
        "id": "26869740",
        "outputId": "0292440c-4577-4c6b-b65c-c6ffd8a59a42"
      },
      "outputs": [
        {
          "name": "stderr",
          "output_type": "stream",
          "text": [
            "C:\\Users\\armin\\anaconda3\\lib\\site-packages\\sklearn\\neighbors\\_classification.py:228: FutureWarning: Unlike other reduction functions (e.g. `skew`, `kurtosis`), the default behavior of `mode` typically preserves the axis it acts along. In SciPy 1.11.0, this behavior will change: the default value of `keepdims` will become False, the `axis` over which the statistic is taken will be eliminated, and the value None will no longer be accepted. Set `keepdims` to True or False to avoid this warning.\n",
            "  mode, _ = stats.mode(_y[neigh_ind, k], axis=1)\n",
            "C:\\Users\\armin\\anaconda3\\lib\\site-packages\\sklearn\\neighbors\\_classification.py:228: FutureWarning: Unlike other reduction functions (e.g. `skew`, `kurtosis`), the default behavior of `mode` typically preserves the axis it acts along. In SciPy 1.11.0, this behavior will change: the default value of `keepdims` will become False, the `axis` over which the statistic is taken will be eliminated, and the value None will no longer be accepted. Set `keepdims` to True or False to avoid this warning.\n",
            "  mode, _ = stats.mode(_y[neigh_ind, k], axis=1)\n",
            "C:\\Users\\armin\\anaconda3\\lib\\site-packages\\sklearn\\neighbors\\_classification.py:228: FutureWarning: Unlike other reduction functions (e.g. `skew`, `kurtosis`), the default behavior of `mode` typically preserves the axis it acts along. In SciPy 1.11.0, this behavior will change: the default value of `keepdims` will become False, the `axis` over which the statistic is taken will be eliminated, and the value None will no longer be accepted. Set `keepdims` to True or False to avoid this warning.\n",
            "  mode, _ = stats.mode(_y[neigh_ind, k], axis=1)\n",
            "C:\\Users\\armin\\anaconda3\\lib\\site-packages\\sklearn\\neighbors\\_classification.py:228: FutureWarning: Unlike other reduction functions (e.g. `skew`, `kurtosis`), the default behavior of `mode` typically preserves the axis it acts along. In SciPy 1.11.0, this behavior will change: the default value of `keepdims` will become False, the `axis` over which the statistic is taken will be eliminated, and the value None will no longer be accepted. Set `keepdims` to True or False to avoid this warning.\n",
            "  mode, _ = stats.mode(_y[neigh_ind, k], axis=1)\n",
            "C:\\Users\\armin\\anaconda3\\lib\\site-packages\\sklearn\\neighbors\\_classification.py:228: FutureWarning: Unlike other reduction functions (e.g. `skew`, `kurtosis`), the default behavior of `mode` typically preserves the axis it acts along. In SciPy 1.11.0, this behavior will change: the default value of `keepdims` will become False, the `axis` over which the statistic is taken will be eliminated, and the value None will no longer be accepted. Set `keepdims` to True or False to avoid this warning.\n",
            "  mode, _ = stats.mode(_y[neigh_ind, k], axis=1)\n",
            "C:\\Users\\armin\\anaconda3\\lib\\site-packages\\sklearn\\neighbors\\_classification.py:228: FutureWarning: Unlike other reduction functions (e.g. `skew`, `kurtosis`), the default behavior of `mode` typically preserves the axis it acts along. In SciPy 1.11.0, this behavior will change: the default value of `keepdims` will become False, the `axis` over which the statistic is taken will be eliminated, and the value None will no longer be accepted. Set `keepdims` to True or False to avoid this warning.\n",
            "  mode, _ = stats.mode(_y[neigh_ind, k], axis=1)\n",
            "C:\\Users\\armin\\anaconda3\\lib\\site-packages\\sklearn\\neighbors\\_classification.py:228: FutureWarning: Unlike other reduction functions (e.g. `skew`, `kurtosis`), the default behavior of `mode` typically preserves the axis it acts along. In SciPy 1.11.0, this behavior will change: the default value of `keepdims` will become False, the `axis` over which the statistic is taken will be eliminated, and the value None will no longer be accepted. Set `keepdims` to True or False to avoid this warning.\n",
            "  mode, _ = stats.mode(_y[neigh_ind, k], axis=1)\n",
            "C:\\Users\\armin\\anaconda3\\lib\\site-packages\\sklearn\\neighbors\\_classification.py:228: FutureWarning: Unlike other reduction functions (e.g. `skew`, `kurtosis`), the default behavior of `mode` typically preserves the axis it acts along. In SciPy 1.11.0, this behavior will change: the default value of `keepdims` will become False, the `axis` over which the statistic is taken will be eliminated, and the value None will no longer be accepted. Set `keepdims` to True or False to avoid this warning.\n",
            "  mode, _ = stats.mode(_y[neigh_ind, k], axis=1)\n",
            "C:\\Users\\armin\\anaconda3\\lib\\site-packages\\sklearn\\neighbors\\_classification.py:228: FutureWarning: Unlike other reduction functions (e.g. `skew`, `kurtosis`), the default behavior of `mode` typically preserves the axis it acts along. In SciPy 1.11.0, this behavior will change: the default value of `keepdims` will become False, the `axis` over which the statistic is taken will be eliminated, and the value None will no longer be accepted. Set `keepdims` to True or False to avoid this warning.\n",
            "  mode, _ = stats.mode(_y[neigh_ind, k], axis=1)\n",
            "C:\\Users\\armin\\anaconda3\\lib\\site-packages\\sklearn\\neighbors\\_classification.py:228: FutureWarning: Unlike other reduction functions (e.g. `skew`, `kurtosis`), the default behavior of `mode` typically preserves the axis it acts along. In SciPy 1.11.0, this behavior will change: the default value of `keepdims` will become False, the `axis` over which the statistic is taken will be eliminated, and the value None will no longer be accepted. Set `keepdims` to True or False to avoid this warning.\n",
            "  mode, _ = stats.mode(_y[neigh_ind, k], axis=1)\n",
            "C:\\Users\\armin\\anaconda3\\lib\\site-packages\\sklearn\\neighbors\\_classification.py:228: FutureWarning: Unlike other reduction functions (e.g. `skew`, `kurtosis`), the default behavior of `mode` typically preserves the axis it acts along. In SciPy 1.11.0, this behavior will change: the default value of `keepdims` will become False, the `axis` over which the statistic is taken will be eliminated, and the value None will no longer be accepted. Set `keepdims` to True or False to avoid this warning.\n",
            "  mode, _ = stats.mode(_y[neigh_ind, k], axis=1)\n",
            "C:\\Users\\armin\\anaconda3\\lib\\site-packages\\sklearn\\neighbors\\_classification.py:228: FutureWarning: Unlike other reduction functions (e.g. `skew`, `kurtosis`), the default behavior of `mode` typically preserves the axis it acts along. In SciPy 1.11.0, this behavior will change: the default value of `keepdims` will become False, the `axis` over which the statistic is taken will be eliminated, and the value None will no longer be accepted. Set `keepdims` to True or False to avoid this warning.\n",
            "  mode, _ = stats.mode(_y[neigh_ind, k], axis=1)\n",
            "C:\\Users\\armin\\anaconda3\\lib\\site-packages\\sklearn\\neighbors\\_classification.py:228: FutureWarning: Unlike other reduction functions (e.g. `skew`, `kurtosis`), the default behavior of `mode` typically preserves the axis it acts along. In SciPy 1.11.0, this behavior will change: the default value of `keepdims` will become False, the `axis` over which the statistic is taken will be eliminated, and the value None will no longer be accepted. Set `keepdims` to True or False to avoid this warning.\n",
            "  mode, _ = stats.mode(_y[neigh_ind, k], axis=1)\n",
            "C:\\Users\\armin\\anaconda3\\lib\\site-packages\\sklearn\\neighbors\\_classification.py:228: FutureWarning: Unlike other reduction functions (e.g. `skew`, `kurtosis`), the default behavior of `mode` typically preserves the axis it acts along. In SciPy 1.11.0, this behavior will change: the default value of `keepdims` will become False, the `axis` over which the statistic is taken will be eliminated, and the value None will no longer be accepted. Set `keepdims` to True or False to avoid this warning.\n",
            "  mode, _ = stats.mode(_y[neigh_ind, k], axis=1)\n",
            "C:\\Users\\armin\\anaconda3\\lib\\site-packages\\sklearn\\neighbors\\_classification.py:228: FutureWarning: Unlike other reduction functions (e.g. `skew`, `kurtosis`), the default behavior of `mode` typically preserves the axis it acts along. In SciPy 1.11.0, this behavior will change: the default value of `keepdims` will become False, the `axis` over which the statistic is taken will be eliminated, and the value None will no longer be accepted. Set `keepdims` to True or False to avoid this warning.\n",
            "  mode, _ = stats.mode(_y[neigh_ind, k], axis=1)\n",
            "C:\\Users\\armin\\anaconda3\\lib\\site-packages\\sklearn\\neighbors\\_classification.py:228: FutureWarning: Unlike other reduction functions (e.g. `skew`, `kurtosis`), the default behavior of `mode` typically preserves the axis it acts along. In SciPy 1.11.0, this behavior will change: the default value of `keepdims` will become False, the `axis` over which the statistic is taken will be eliminated, and the value None will no longer be accepted. Set `keepdims` to True or False to avoid this warning.\n",
            "  mode, _ = stats.mode(_y[neigh_ind, k], axis=1)\n"
          ]
        },
        {
          "name": "stderr",
          "output_type": "stream",
          "text": [
            "C:\\Users\\armin\\anaconda3\\lib\\site-packages\\sklearn\\neighbors\\_classification.py:228: FutureWarning: Unlike other reduction functions (e.g. `skew`, `kurtosis`), the default behavior of `mode` typically preserves the axis it acts along. In SciPy 1.11.0, this behavior will change: the default value of `keepdims` will become False, the `axis` over which the statistic is taken will be eliminated, and the value None will no longer be accepted. Set `keepdims` to True or False to avoid this warning.\n",
            "  mode, _ = stats.mode(_y[neigh_ind, k], axis=1)\n",
            "C:\\Users\\armin\\anaconda3\\lib\\site-packages\\sklearn\\neighbors\\_classification.py:228: FutureWarning: Unlike other reduction functions (e.g. `skew`, `kurtosis`), the default behavior of `mode` typically preserves the axis it acts along. In SciPy 1.11.0, this behavior will change: the default value of `keepdims` will become False, the `axis` over which the statistic is taken will be eliminated, and the value None will no longer be accepted. Set `keepdims` to True or False to avoid this warning.\n",
            "  mode, _ = stats.mode(_y[neigh_ind, k], axis=1)\n",
            "C:\\Users\\armin\\anaconda3\\lib\\site-packages\\sklearn\\neighbors\\_classification.py:228: FutureWarning: Unlike other reduction functions (e.g. `skew`, `kurtosis`), the default behavior of `mode` typically preserves the axis it acts along. In SciPy 1.11.0, this behavior will change: the default value of `keepdims` will become False, the `axis` over which the statistic is taken will be eliminated, and the value None will no longer be accepted. Set `keepdims` to True or False to avoid this warning.\n",
            "  mode, _ = stats.mode(_y[neigh_ind, k], axis=1)\n",
            "C:\\Users\\armin\\anaconda3\\lib\\site-packages\\sklearn\\neighbors\\_classification.py:228: FutureWarning: Unlike other reduction functions (e.g. `skew`, `kurtosis`), the default behavior of `mode` typically preserves the axis it acts along. In SciPy 1.11.0, this behavior will change: the default value of `keepdims` will become False, the `axis` over which the statistic is taken will be eliminated, and the value None will no longer be accepted. Set `keepdims` to True or False to avoid this warning.\n",
            "  mode, _ = stats.mode(_y[neigh_ind, k], axis=1)\n",
            "C:\\Users\\armin\\anaconda3\\lib\\site-packages\\sklearn\\neighbors\\_classification.py:228: FutureWarning: Unlike other reduction functions (e.g. `skew`, `kurtosis`), the default behavior of `mode` typically preserves the axis it acts along. In SciPy 1.11.0, this behavior will change: the default value of `keepdims` will become False, the `axis` over which the statistic is taken will be eliminated, and the value None will no longer be accepted. Set `keepdims` to True or False to avoid this warning.\n",
            "  mode, _ = stats.mode(_y[neigh_ind, k], axis=1)\n",
            "C:\\Users\\armin\\anaconda3\\lib\\site-packages\\sklearn\\neighbors\\_classification.py:228: FutureWarning: Unlike other reduction functions (e.g. `skew`, `kurtosis`), the default behavior of `mode` typically preserves the axis it acts along. In SciPy 1.11.0, this behavior will change: the default value of `keepdims` will become False, the `axis` over which the statistic is taken will be eliminated, and the value None will no longer be accepted. Set `keepdims` to True or False to avoid this warning.\n",
            "  mode, _ = stats.mode(_y[neigh_ind, k], axis=1)\n",
            "C:\\Users\\armin\\anaconda3\\lib\\site-packages\\sklearn\\neighbors\\_classification.py:228: FutureWarning: Unlike other reduction functions (e.g. `skew`, `kurtosis`), the default behavior of `mode` typically preserves the axis it acts along. In SciPy 1.11.0, this behavior will change: the default value of `keepdims` will become False, the `axis` over which the statistic is taken will be eliminated, and the value None will no longer be accepted. Set `keepdims` to True or False to avoid this warning.\n",
            "  mode, _ = stats.mode(_y[neigh_ind, k], axis=1)\n",
            "C:\\Users\\armin\\anaconda3\\lib\\site-packages\\sklearn\\neighbors\\_classification.py:228: FutureWarning: Unlike other reduction functions (e.g. `skew`, `kurtosis`), the default behavior of `mode` typically preserves the axis it acts along. In SciPy 1.11.0, this behavior will change: the default value of `keepdims` will become False, the `axis` over which the statistic is taken will be eliminated, and the value None will no longer be accepted. Set `keepdims` to True or False to avoid this warning.\n",
            "  mode, _ = stats.mode(_y[neigh_ind, k], axis=1)\n",
            "C:\\Users\\armin\\anaconda3\\lib\\site-packages\\sklearn\\neighbors\\_classification.py:228: FutureWarning: Unlike other reduction functions (e.g. `skew`, `kurtosis`), the default behavior of `mode` typically preserves the axis it acts along. In SciPy 1.11.0, this behavior will change: the default value of `keepdims` will become False, the `axis` over which the statistic is taken will be eliminated, and the value None will no longer be accepted. Set `keepdims` to True or False to avoid this warning.\n",
            "  mode, _ = stats.mode(_y[neigh_ind, k], axis=1)\n",
            "C:\\Users\\armin\\anaconda3\\lib\\site-packages\\sklearn\\neighbors\\_classification.py:228: FutureWarning: Unlike other reduction functions (e.g. `skew`, `kurtosis`), the default behavior of `mode` typically preserves the axis it acts along. In SciPy 1.11.0, this behavior will change: the default value of `keepdims` will become False, the `axis` over which the statistic is taken will be eliminated, and the value None will no longer be accepted. Set `keepdims` to True or False to avoid this warning.\n",
            "  mode, _ = stats.mode(_y[neigh_ind, k], axis=1)\n",
            "C:\\Users\\armin\\anaconda3\\lib\\site-packages\\sklearn\\neighbors\\_classification.py:228: FutureWarning: Unlike other reduction functions (e.g. `skew`, `kurtosis`), the default behavior of `mode` typically preserves the axis it acts along. In SciPy 1.11.0, this behavior will change: the default value of `keepdims` will become False, the `axis` over which the statistic is taken will be eliminated, and the value None will no longer be accepted. Set `keepdims` to True or False to avoid this warning.\n",
            "  mode, _ = stats.mode(_y[neigh_ind, k], axis=1)\n",
            "C:\\Users\\armin\\anaconda3\\lib\\site-packages\\sklearn\\neighbors\\_classification.py:228: FutureWarning: Unlike other reduction functions (e.g. `skew`, `kurtosis`), the default behavior of `mode` typically preserves the axis it acts along. In SciPy 1.11.0, this behavior will change: the default value of `keepdims` will become False, the `axis` over which the statistic is taken will be eliminated, and the value None will no longer be accepted. Set `keepdims` to True or False to avoid this warning.\n",
            "  mode, _ = stats.mode(_y[neigh_ind, k], axis=1)\n",
            "C:\\Users\\armin\\anaconda3\\lib\\site-packages\\sklearn\\neighbors\\_classification.py:228: FutureWarning: Unlike other reduction functions (e.g. `skew`, `kurtosis`), the default behavior of `mode` typically preserves the axis it acts along. In SciPy 1.11.0, this behavior will change: the default value of `keepdims` will become False, the `axis` over which the statistic is taken will be eliminated, and the value None will no longer be accepted. Set `keepdims` to True or False to avoid this warning.\n",
            "  mode, _ = stats.mode(_y[neigh_ind, k], axis=1)\n",
            "C:\\Users\\armin\\anaconda3\\lib\\site-packages\\sklearn\\neighbors\\_classification.py:228: FutureWarning: Unlike other reduction functions (e.g. `skew`, `kurtosis`), the default behavior of `mode` typically preserves the axis it acts along. In SciPy 1.11.0, this behavior will change: the default value of `keepdims` will become False, the `axis` over which the statistic is taken will be eliminated, and the value None will no longer be accepted. Set `keepdims` to True or False to avoid this warning.\n",
            "  mode, _ = stats.mode(_y[neigh_ind, k], axis=1)\n",
            "C:\\Users\\armin\\anaconda3\\lib\\site-packages\\sklearn\\neighbors\\_classification.py:228: FutureWarning: Unlike other reduction functions (e.g. `skew`, `kurtosis`), the default behavior of `mode` typically preserves the axis it acts along. In SciPy 1.11.0, this behavior will change: the default value of `keepdims` will become False, the `axis` over which the statistic is taken will be eliminated, and the value None will no longer be accepted. Set `keepdims` to True or False to avoid this warning.\n",
            "  mode, _ = stats.mode(_y[neigh_ind, k], axis=1)\n",
            "C:\\Users\\armin\\anaconda3\\lib\\site-packages\\sklearn\\neighbors\\_classification.py:228: FutureWarning: Unlike other reduction functions (e.g. `skew`, `kurtosis`), the default behavior of `mode` typically preserves the axis it acts along. In SciPy 1.11.0, this behavior will change: the default value of `keepdims` will become False, the `axis` over which the statistic is taken will be eliminated, and the value None will no longer be accepted. Set `keepdims` to True or False to avoid this warning.\n",
            "  mode, _ = stats.mode(_y[neigh_ind, k], axis=1)\n"
          ]
        },
        {
          "name": "stderr",
          "output_type": "stream",
          "text": [
            "C:\\Users\\armin\\anaconda3\\lib\\site-packages\\sklearn\\neighbors\\_classification.py:228: FutureWarning: Unlike other reduction functions (e.g. `skew`, `kurtosis`), the default behavior of `mode` typically preserves the axis it acts along. In SciPy 1.11.0, this behavior will change: the default value of `keepdims` will become False, the `axis` over which the statistic is taken will be eliminated, and the value None will no longer be accepted. Set `keepdims` to True or False to avoid this warning.\n",
            "  mode, _ = stats.mode(_y[neigh_ind, k], axis=1)\n",
            "C:\\Users\\armin\\anaconda3\\lib\\site-packages\\sklearn\\neighbors\\_classification.py:228: FutureWarning: Unlike other reduction functions (e.g. `skew`, `kurtosis`), the default behavior of `mode` typically preserves the axis it acts along. In SciPy 1.11.0, this behavior will change: the default value of `keepdims` will become False, the `axis` over which the statistic is taken will be eliminated, and the value None will no longer be accepted. Set `keepdims` to True or False to avoid this warning.\n",
            "  mode, _ = stats.mode(_y[neigh_ind, k], axis=1)\n",
            "C:\\Users\\armin\\anaconda3\\lib\\site-packages\\sklearn\\neighbors\\_classification.py:228: FutureWarning: Unlike other reduction functions (e.g. `skew`, `kurtosis`), the default behavior of `mode` typically preserves the axis it acts along. In SciPy 1.11.0, this behavior will change: the default value of `keepdims` will become False, the `axis` over which the statistic is taken will be eliminated, and the value None will no longer be accepted. Set `keepdims` to True or False to avoid this warning.\n",
            "  mode, _ = stats.mode(_y[neigh_ind, k], axis=1)\n",
            "C:\\Users\\armin\\anaconda3\\lib\\site-packages\\sklearn\\neighbors\\_classification.py:228: FutureWarning: Unlike other reduction functions (e.g. `skew`, `kurtosis`), the default behavior of `mode` typically preserves the axis it acts along. In SciPy 1.11.0, this behavior will change: the default value of `keepdims` will become False, the `axis` over which the statistic is taken will be eliminated, and the value None will no longer be accepted. Set `keepdims` to True or False to avoid this warning.\n",
            "  mode, _ = stats.mode(_y[neigh_ind, k], axis=1)\n",
            "C:\\Users\\armin\\anaconda3\\lib\\site-packages\\sklearn\\neighbors\\_classification.py:228: FutureWarning: Unlike other reduction functions (e.g. `skew`, `kurtosis`), the default behavior of `mode` typically preserves the axis it acts along. In SciPy 1.11.0, this behavior will change: the default value of `keepdims` will become False, the `axis` over which the statistic is taken will be eliminated, and the value None will no longer be accepted. Set `keepdims` to True or False to avoid this warning.\n",
            "  mode, _ = stats.mode(_y[neigh_ind, k], axis=1)\n",
            "C:\\Users\\armin\\anaconda3\\lib\\site-packages\\sklearn\\neighbors\\_classification.py:228: FutureWarning: Unlike other reduction functions (e.g. `skew`, `kurtosis`), the default behavior of `mode` typically preserves the axis it acts along. In SciPy 1.11.0, this behavior will change: the default value of `keepdims` will become False, the `axis` over which the statistic is taken will be eliminated, and the value None will no longer be accepted. Set `keepdims` to True or False to avoid this warning.\n",
            "  mode, _ = stats.mode(_y[neigh_ind, k], axis=1)\n",
            "C:\\Users\\armin\\anaconda3\\lib\\site-packages\\sklearn\\neighbors\\_classification.py:228: FutureWarning: Unlike other reduction functions (e.g. `skew`, `kurtosis`), the default behavior of `mode` typically preserves the axis it acts along. In SciPy 1.11.0, this behavior will change: the default value of `keepdims` will become False, the `axis` over which the statistic is taken will be eliminated, and the value None will no longer be accepted. Set `keepdims` to True or False to avoid this warning.\n",
            "  mode, _ = stats.mode(_y[neigh_ind, k], axis=1)\n"
          ]
        }
      ],
      "source": [
        "error_rate = []\n",
        "\n",
        "# Will take some time\n",
        "for i in range(1,40):\n",
        "    \n",
        "    knn = KNeighborsClassifier(n_neighbors=i)\n",
        "    knn.fit(X_train,y_train)\n",
        "    pred_i = knn.predict(X_test)\n",
        "    error_rate.append(np.mean(pred_i != y_test))"
      ]
    },
    {
      "cell_type": "code",
      "execution_count": null,
      "id": "e825e6c5",
      "metadata": {
        "id": "e825e6c5",
        "outputId": "6d54dad6-6ed7-4564-a501-94f2e465b70f"
      },
      "outputs": [
        {
          "data": {
            "text/plain": [
              "Text(0, 0.5, 'Error Rate')"
            ]
          },
          "execution_count": 43,
          "metadata": {},
          "output_type": "execute_result"
        },
        {
          "data": {
            "image/png": "[encoded data removed]",
            "text/plain": [
              "<Figure size 1000x600 with 1 Axes>"
            ]
          },
          "metadata": {},
          "output_type": "display_data"
        }
      ],
      "source": [
        "plt.figure(figsize=(10,6))\n",
        "plt.plot(range(1,40),error_rate,color='blue', linestyle='dashed', marker='o',\n",
        "         markerfacecolor='red', markersize=10)\n",
        "plt.title('Error Rate vs. Leaf Size')\n",
        "plt.xlabel('Leaf Size')\n",
        "plt.ylabel('Error Rate')"
      ]
    },
    {
      "cell_type": "code",
      "execution_count": null,
      "id": "a0ed8750",
      "metadata": {
        "id": "a0ed8750"
      },
      "outputs": [],
      "source": []
    }
  ],
  "metadata": {
    "kernelspec": {
      "display_name": "Python 3 (ipykernel)",
      "language": "python",
      "name": "python3"
    },
    "language_info": {
      "codemirror_mode": {
        "name": "ipython",
        "version": 3
      },
      "file_extension": ".py",
      "mimetype": "text/x-python",
      "name": "python",
      "nbconvert_exporter": "python",
      "pygments_lexer": "ipython3",
      "version": "3.9.13"
    },
    "colab": {
      "provenance": [],
      "include_colab_link": true
    }
  },
  "nbformat": 4,
  "nbformat_minor": 5
}